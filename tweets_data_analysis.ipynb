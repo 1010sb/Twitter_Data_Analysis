{
 "cells": [
  {
   "cell_type": "markdown",
   "id": "51204d11",
   "metadata": {},
   "source": [
    "# Twitter Data Analysis\n",
    "### 1. User entity analysis for 5 most active users\n",
    "### 2. Hashtag entity analysis for 5 most popular hashtags\n",
    "### 3. Tweet entity analysis for five most prevalent topics in the tweets"
   ]
  },
  {
   "cell_type": "markdown",
   "id": "5fcad3c9",
   "metadata": {},
   "source": [
    "##### Importing required packages"
   ]
  },
  {
   "cell_type": "code",
   "execution_count": 1,
   "id": "021d26ec",
   "metadata": {},
   "outputs": [
    {
     "name": "stderr",
     "output_type": "stream",
     "text": [
      "C:\\Users\\sahma\\miniconda3\\lib\\site-packages\\past\\builtins\\misc.py:45: DeprecationWarning: the imp module is deprecated in favour of importlib; see the module's documentation for alternative uses\n",
      "  from imp import reload\n"
     ]
    }
   ],
   "source": [
    "import snscrape.modules.twitter as sntwitter\n",
    "from datetime import datetime, date, timedelta\n",
    "\n",
    "import csv\n",
    "import pandas as pd\n",
    "import numpy as np\n",
    "import matplotlib.pyplot as plt\n",
    "import seaborn as sns\n",
    "import re\n",
    "import string\n",
    "\n",
    "import nltk\n",
    "from nltk.corpus import stopwords\n",
    "#nltk.download('stopwords')\n",
    "#nltk.download('omw-1.4')\n",
    "from nltk.stem import PorterStemmer\n",
    "from nltk.stem import WordNetLemmatizer\n",
    "\n",
    "import sklearn\n",
    "from sklearn.feature_extraction.text import CountVectorizer\n",
    "from sklearn.feature_extraction.text import TfidfVectorizer\n",
    "from sklearn.decomposition import LatentDirichletAllocation\n",
    "from sklearn.decomposition import NMF\n",
    "import pyLDAvis\n",
    "import pyLDAvis.sklearn\n",
    "\n",
    "#pip install pyLDAvis\n",
    "\n",
    "import warnings\n",
    "warnings.filterwarnings('ignore')\n"
   ]
  },
  {
   "cell_type": "code",
   "execution_count": null,
   "id": "3dcc681d",
   "metadata": {},
   "outputs": [],
   "source": []
  },
  {
   "cell_type": "markdown",
   "id": "0dddf2be",
   "metadata": {},
   "source": [
    "### Creating some dynamic parametere for scraper query "
   ]
  },
  {
   "cell_type": "markdown",
   "id": "7e54fe11",
   "metadata": {},
   "source": [
    "\n"
   ]
  },
  {
   "cell_type": "code",
   "execution_count": 2,
   "id": "f67af25c",
   "metadata": {},
   "outputs": [],
   "source": [
    "#start_date = date.today()\n",
    "#end_date = start_date - timedelta(days=7) #1 week tweet data to scrape\n",
    "#language = 'en'\n",
    "#city = 'hannover' #here any other city can be selected like berlin, paris etc\n",
    "#query = f'near:\"{city}\" within:20km lang:{language} since:{end_date} until:{start_date}'\n",
    "#tweets = []\n",
    "#limit = 4500 #this limit can be increased"
   ]
  },
  {
   "cell_type": "code",
   "execution_count": 2,
   "id": "1a44a930",
   "metadata": {},
   "outputs": [],
   "source": [
    "#print(start_date)\n",
    "#print(end_date)"
   ]
  },
  {
   "cell_type": "markdown",
   "id": "b65f3fb7",
   "metadata": {},
   "source": [
    "###  Extracting data from twitter by using snscrape "
   ]
  },
  {
   "cell_type": "markdown",
   "id": "f3e94e01",
   "metadata": {},
   "source": [
    "###### 1. Looping through each tweet and getting items like username, content, hashtags and location\n",
    "###### 2. Appending data to predefined empty tweets list "
   ]
  },
  {
   "cell_type": "code",
   "execution_count": 3,
   "id": "2cee96ba",
   "metadata": {},
   "outputs": [],
   "source": [
    "#for tweet in sntwitter.TwitterSearchScraper(query).get_items():\n",
    "#    if len(tweets) == limit:\n",
    "#        break\n",
    "#    else:\n",
    "#        tweets.append([tweet.user.username, tweet.content, tweet.hashtags, tweet.user.location])"
   ]
  },
  {
   "cell_type": "markdown",
   "id": "04fd5614",
   "metadata": {},
   "source": [
    "##### Creating a dataframe with following columns \n",
    "1. user\n",
    "2. tweet\n",
    "3. hashtag\n",
    "4. location"
   ]
  },
  {
   "cell_type": "code",
   "execution_count": 4,
   "id": "4d8991d9",
   "metadata": {},
   "outputs": [],
   "source": [
    "#df = pd.DataFrame(tweets, columns=['user', 'tweet', 'hashtag', 'location'])"
   ]
  },
  {
   "cell_type": "markdown",
   "id": "375cba92",
   "metadata": {},
   "source": [
    "##### Writing extracted data to a csv file with dynamic file name "
   ]
  },
  {
   "cell_type": "code",
   "execution_count": 5,
   "id": "d28d1c06",
   "metadata": {},
   "outputs": [],
   "source": [
    "#df.to_csv(f'{city}-tweets.csv', index=False, encoding='utf8')"
   ]
  },
  {
   "cell_type": "markdown",
   "id": "49776088",
   "metadata": {},
   "source": [
    "##### We extracted 4500 tweets with 4 columns, confirmed by reading csv file row numbers"
   ]
  },
  {
   "cell_type": "code",
   "execution_count": 6,
   "id": "5231cb9e",
   "metadata": {},
   "outputs": [
    {
     "data": {
      "text/plain": [
       "(4500, 4)"
      ]
     },
     "execution_count": 6,
     "metadata": {},
     "output_type": "execute_result"
    }
   ],
   "source": [
    "df = pd.read_csv('hannover-tweets.csv')\n",
    "df.shape "
   ]
  },
  {
   "cell_type": "markdown",
   "id": "01c8e272",
   "metadata": {},
   "source": [
    "##### Droping tweets which dosn't contain hashtags, for this analyis we will use only tweets data with hashtags."
   ]
  },
  {
   "cell_type": "code",
   "execution_count": 7,
   "id": "0a8f2690",
   "metadata": {},
   "outputs": [
    {
     "data": {
      "text/plain": [
       "(454, 4)"
      ]
     },
     "execution_count": 7,
     "metadata": {},
     "output_type": "execute_result"
    }
   ],
   "source": [
    "df = df.dropna(subset = ['hashtag'])\n",
    "df.shape"
   ]
  },
  {
   "cell_type": "markdown",
   "id": "8502bf1f",
   "metadata": {},
   "source": [
    "##### After droping none hashtag tweets we left with 454 tweets data\n"
   ]
  },
  {
   "cell_type": "markdown",
   "id": "a650af53",
   "metadata": {},
   "source": [
    "##### A view of data frame "
   ]
  },
  {
   "cell_type": "code",
   "execution_count": 8,
   "id": "8f07e71b",
   "metadata": {
    "scrolled": true
   },
   "outputs": [
    {
     "data": {
      "text/html": [
       "<div>\n",
       "<style scoped>\n",
       "    .dataframe tbody tr th:only-of-type {\n",
       "        vertical-align: middle;\n",
       "    }\n",
       "\n",
       "    .dataframe tbody tr th {\n",
       "        vertical-align: top;\n",
       "    }\n",
       "\n",
       "    .dataframe thead th {\n",
       "        text-align: right;\n",
       "    }\n",
       "</style>\n",
       "<table border=\"1\" class=\"dataframe\">\n",
       "  <thead>\n",
       "    <tr style=\"text-align: right;\">\n",
       "      <th></th>\n",
       "      <th>user</th>\n",
       "      <th>tweet</th>\n",
       "      <th>hashtag</th>\n",
       "      <th>location</th>\n",
       "    </tr>\n",
       "  </thead>\n",
       "  <tbody>\n",
       "    <tr>\n",
       "      <th>4348</th>\n",
       "      <td>GofERabbbit</td>\n",
       "      <td>UN #Biodiversity2022 Conference #Guterres and ...</td>\n",
       "      <td>['Biodiversity2022', 'Guterres', 'WEF', 'Agend...</td>\n",
       "      <td>Hannover, Deutschland</td>\n",
       "    </tr>\n",
       "    <tr>\n",
       "      <th>4349</th>\n",
       "      <td>br_ricke</td>\n",
       "      <td>Good Morning #NateNerds !\\n\\nNever underestima...</td>\n",
       "      <td>['NateNerds', 'NathanFillion', 'TheRookie', 'C...</td>\n",
       "      <td>Germany</td>\n",
       "    </tr>\n",
       "    <tr>\n",
       "      <th>4350</th>\n",
       "      <td>germannateclub</td>\n",
       "      <td>Happy Tuesday #Fillionaires &amp;amp; #Browncoats ...</td>\n",
       "      <td>['Fillionaires', 'Browncoats', 'NathanFillion'...</td>\n",
       "      <td>Deutschland</td>\n",
       "    </tr>\n",
       "    <tr>\n",
       "      <th>4424</th>\n",
       "      <td>profi_youth</td>\n",
       "      <td>This is so sad.\\n\\nTerry Hall was the self-ass...</td>\n",
       "      <td>['Specials']</td>\n",
       "      <td>Hannover</td>\n",
       "    </tr>\n",
       "    <tr>\n",
       "      <th>4436</th>\n",
       "      <td>janniswiese</td>\n",
       "      <td>Hey @elonmusk, honest question: Will we actual...</td>\n",
       "      <td>['twitterfiles']</td>\n",
       "      <td>Hanover, Lower Saxony</td>\n",
       "    </tr>\n",
       "    <tr>\n",
       "      <th>4443</th>\n",
       "      <td>janniswiese</td>\n",
       "      <td>@fools_n_kings @KimDotcom The whole story woul...</td>\n",
       "      <td>['kimdottinfoilhat']</td>\n",
       "      <td>Hanover, Lower Saxony</td>\n",
       "    </tr>\n",
       "    <tr>\n",
       "      <th>4467</th>\n",
       "      <td>mariachaboart</td>\n",
       "      <td>Christkind Group by Maria Chabo\\n▫️All About E...</td>\n",
       "      <td>['jesus', 'prayer', 'jesuschrist', 'jesusilove...</td>\n",
       "      <td>Hannover, Deutschland</td>\n",
       "    </tr>\n",
       "    <tr>\n",
       "      <th>4468</th>\n",
       "      <td>jesusiloveyouen</td>\n",
       "      <td>Christkind Group by Maria Chabo\\n▫️All About E...</td>\n",
       "      <td>['jesus', 'prayer', 'jesuschrist', 'jesusilove...</td>\n",
       "      <td>Hannover, Deutschland</td>\n",
       "    </tr>\n",
       "    <tr>\n",
       "      <th>4476</th>\n",
       "      <td>mal1iii</td>\n",
       "      <td>@NVIDIAGeForce @YEAH_Jul #GiftRTX more power</td>\n",
       "      <td>['GiftRTX']</td>\n",
       "      <td>Hannover, Deutschland</td>\n",
       "    </tr>\n",
       "    <tr>\n",
       "      <th>4485</th>\n",
       "      <td>enfiesta14</td>\n",
       "      <td>\"Withdraw the amendment. Same dogs, same law. ...</td>\n",
       "      <td>['NoLosExcluyasPsoe']</td>\n",
       "      <td>Hannover, Deutschland</td>\n",
       "    </tr>\n",
       "  </tbody>\n",
       "</table>\n",
       "</div>"
      ],
      "text/plain": [
       "                 user                                              tweet  \\\n",
       "4348      GofERabbbit  UN #Biodiversity2022 Conference #Guterres and ...   \n",
       "4349         br_ricke  Good Morning #NateNerds !\\n\\nNever underestima...   \n",
       "4350   germannateclub  Happy Tuesday #Fillionaires &amp; #Browncoats ...   \n",
       "4424      profi_youth  This is so sad.\\n\\nTerry Hall was the self-ass...   \n",
       "4436      janniswiese  Hey @elonmusk, honest question: Will we actual...   \n",
       "4443      janniswiese  @fools_n_kings @KimDotcom The whole story woul...   \n",
       "4467    mariachaboart  Christkind Group by Maria Chabo\\n▫️All About E...   \n",
       "4468  jesusiloveyouen  Christkind Group by Maria Chabo\\n▫️All About E...   \n",
       "4476          mal1iii       @NVIDIAGeForce @YEAH_Jul #GiftRTX more power   \n",
       "4485       enfiesta14  \"Withdraw the amendment. Same dogs, same law. ...   \n",
       "\n",
       "                                                hashtag               location  \n",
       "4348  ['Biodiversity2022', 'Guterres', 'WEF', 'Agend...  Hannover, Deutschland  \n",
       "4349  ['NateNerds', 'NathanFillion', 'TheRookie', 'C...                Germany  \n",
       "4350  ['Fillionaires', 'Browncoats', 'NathanFillion'...            Deutschland  \n",
       "4424                                       ['Specials']               Hannover  \n",
       "4436                                   ['twitterfiles']  Hanover, Lower Saxony  \n",
       "4443                               ['kimdottinfoilhat']  Hanover, Lower Saxony  \n",
       "4467  ['jesus', 'prayer', 'jesuschrist', 'jesusilove...  Hannover, Deutschland  \n",
       "4468  ['jesus', 'prayer', 'jesuschrist', 'jesusilove...  Hannover, Deutschland  \n",
       "4476                                        ['GiftRTX']  Hannover, Deutschland  \n",
       "4485                              ['NoLosExcluyasPsoe']  Hannover, Deutschland  "
      ]
     },
     "execution_count": 8,
     "metadata": {},
     "output_type": "execute_result"
    }
   ],
   "source": [
    "df.tail(10)"
   ]
  },
  {
   "cell_type": "markdown",
   "id": "76532f68",
   "metadata": {},
   "source": [
    "# 1. User entity analysis for 5 most active users\n",
    "\n",
    "### By using user column and NLTK frequency distrubution function to count user tweets per user\n"
   ]
  },
  {
   "cell_type": "code",
   "execution_count": 9,
   "id": "40770196",
   "metadata": {},
   "outputs": [
    {
     "name": "stdout",
     "output_type": "stream",
     "text": [
      "           UserName  TweetsCount\n",
      "14  stephenmorris84           28\n",
      "24  rockdaspotagent           22\n",
      "10   caoimhin_craig           16\n",
      "70       ArndtVogel           14\n",
      "42          MC_Floh           12\n"
     ]
    }
   ],
   "source": [
    "users = df['user']\n",
    "freq = nltk.FreqDist(users)\n",
    "d = pd.DataFrame({'UserName': list(freq.keys()),\n",
    "                 'TweetsCount': list(freq.values())})\n",
    "d = d.nlargest(columns='TweetsCount', n=5)\n",
    "print(d)"
   ]
  },
  {
   "cell_type": "markdown",
   "id": "47e4ecf4",
   "metadata": {},
   "source": [
    "#### As data shows most active user is stephenmorris84 with 28 tweets\n",
    "#### Ploting most active user result with seaborn bar chart and save as .png file"
   ]
  },
  {
   "cell_type": "code",
   "execution_count": 10,
   "id": "324fdb57",
   "metadata": {},
   "outputs": [
    {
     "data": {
      "image/png": "[encoded data removed]",
      "text/plain": [
       "<Figure size 1000x600 with 1 Axes>"
      ]
     },
     "metadata": {},
     "output_type": "display_data"
    }
   ],
   "source": [
    "\n",
    "bar,ax = plt.subplots(figsize=(10,6))\n",
    "sns.set_style(\"whitegrid\")\n",
    "ax = sns.barplot(data=d, x='UserName', y='TweetsCount')\n",
    "ax.set_title('5 Most Active User - Hannover - 2022-12-26', fontsize=12)\n",
    "ax.set_xlabel (\"User\")\n",
    "ax.set_ylabel (\"Tweets\")\n",
    "for rect in ax.patches:\n",
    "    ax.text (rect.get_x() + rect.get_width() / 2,rect.get_height(),\"%.1f%%\"% rect.get_height(), weight='bold' )\n",
    "plt.show()\n",
    "bar.savefig(\"MostActiveUser\")\n"
   ]
  },
  {
   "cell_type": "code",
   "execution_count": null,
   "id": "9c8243c5",
   "metadata": {},
   "outputs": [],
   "source": []
  },
  {
   "cell_type": "markdown",
   "id": "b8bb3905",
   "metadata": {},
   "source": [
    "# 2. Hashtag entity analysis for 5 most popular hashtags"
   ]
  },
  {
   "cell_type": "markdown",
   "id": "a8069670",
   "metadata": {},
   "source": [
    "#### Converting hashtag data to string an lower case"
   ]
  },
  {
   "cell_type": "code",
   "execution_count": 11,
   "id": "517c0d1c",
   "metadata": {},
   "outputs": [],
   "source": [
    "def hashtag_extract(hashtags):  \n",
    "    hashtags = str(hashtags).lower()\n",
    "    return hashtags"
   ]
  },
  {
   "cell_type": "markdown",
   "id": "19cd67f0",
   "metadata": {},
   "source": [
    "#### Applying hashtag_extract function to hashtag dataframe"
   ]
  },
  {
   "cell_type": "code",
   "execution_count": 12,
   "id": "072d5ae6",
   "metadata": {},
   "outputs": [],
   "source": [
    "df['hashtags_txt'] = df['hashtag'].apply(hashtag_extract)"
   ]
  },
  {
   "cell_type": "markdown",
   "id": "dbda4c50",
   "metadata": {},
   "source": [
    "#### Further cleaning on hashtags text data"
   ]
  },
  {
   "cell_type": "code",
   "execution_count": 13,
   "id": "3be6324d",
   "metadata": {},
   "outputs": [],
   "source": [
    "hashtag_to_text = df['hashtags_txt'].values\n",
    "hashtag_to_text = str(hashtag_to_text)\n",
    "hashtag_to_text = re.sub(r' indices', ' ', hashtag_to_text)\n",
    "hashtag_to_text = re.sub(r' text', ' ', hashtag_to_text) \n",
    "hashtag_to_text = re.sub(r'[^a-z A-Z]', ' ', hashtag_to_text)\n",
    "hashtag_to_text = re.sub(r' +', ' ', hashtag_to_text)"
   ]
  },
  {
   "cell_type": "code",
   "execution_count": 14,
   "id": "754e3a1a",
   "metadata": {},
   "outputs": [],
   "source": [
    "#print(hashtag_to_text)"
   ]
  },
  {
   "cell_type": "markdown",
   "id": "1ed7f85c",
   "metadata": {},
   "source": [
    "#### Function to count each word in hashtag text "
   ]
  },
  {
   "cell_type": "code",
   "execution_count": 15,
   "id": "1aad8ce2",
   "metadata": {},
   "outputs": [],
   "source": [
    "def counter(text):\n",
    "    counts = dict()\n",
    "    words = text.split()\n",
    "\n",
    "    for word in words:\n",
    "        if word in counts:\n",
    "            counts[word] += 1\n",
    "        else:\n",
    "            counts[word] = 1\n",
    "    return counts"
   ]
  },
  {
   "cell_type": "markdown",
   "id": "6a9fcd9f",
   "metadata": {},
   "source": [
    "#### Appling counter function to hashtag_to_text data "
   ]
  },
  {
   "cell_type": "code",
   "execution_count": 16,
   "id": "883e1c41",
   "metadata": {},
   "outputs": [],
   "source": [
    "hashtags = counter(hashtag_to_text)"
   ]
  },
  {
   "cell_type": "markdown",
   "id": "db742a09",
   "metadata": {},
   "source": [
    "### By using hashtags data and NLTK frequency distrubution function to count each tweet occurences"
   ]
  },
  {
   "cell_type": "code",
   "execution_count": 17,
   "id": "8eb86e18",
   "metadata": {},
   "outputs": [
    {
     "name": "stdout",
     "output_type": "stream",
     "text": [
      "        Hashtag  Count\n",
      "37        aiart     29\n",
      "38    nightcafe     27\n",
      "39   digitalart     27\n",
      "189      shorts     19\n",
      "229  mariachabo     19\n"
     ]
    }
   ],
   "source": [
    "freq = nltk.FreqDist(hashtags)\n",
    "d = pd.DataFrame({'Hashtag': list(freq.keys()),\n",
    "                 'Count': list(freq.values())})\n",
    "d = d.nlargest(columns='Count', n=5)\n",
    "print(d)"
   ]
  },
  {
   "cell_type": "markdown",
   "id": "353ae7c2",
   "metadata": {},
   "source": [
    "#### As data shows most popular hashtag is aiart 29 time occurences\n",
    "#### Ploting most frequently used hashtag with seaborn bar chart and save as .png file"
   ]
  },
  {
   "cell_type": "code",
   "execution_count": 18,
   "id": "76dfa0f2",
   "metadata": {
    "scrolled": true
   },
   "outputs": [
    {
     "data": {
      "image/png": "[encoded data removed]",
      "text/plain": [
       "<Figure size 700x300 with 1 Axes>"
      ]
     },
     "metadata": {},
     "output_type": "display_data"
    }
   ],
   "source": [
    "bar,ax = plt.subplots(figsize=(7,3))\n",
    "sns.set_style(\"whitegrid\")\n",
    "ax = sns.barplot(data=d, x='Hashtag', y='Count')\n",
    "ax.set_title('5 Most Frequently Used Hashtags - Hannover 2022-12-26', fontsize=12)\n",
    "for rect in ax.patches:\n",
    "    ax.text (rect.get_x() + rect.get_width() / 2,rect.get_height(),\"%.1f%%\"% rect.get_height(), weight='bold' )\n",
    "plt.show()\n",
    "bar.savefig(\"PopularHashtag\")"
   ]
  },
  {
   "cell_type": "code",
   "execution_count": null,
   "id": "35ace7c6",
   "metadata": {},
   "outputs": [],
   "source": []
  },
  {
   "cell_type": "markdown",
   "id": "349b6e47",
   "metadata": {},
   "source": [
    "# 3. Tweet entity analysis for five most prevalent topics in the tweets"
   ]
  },
  {
   "cell_type": "markdown",
   "id": "1e8b9dae",
   "metadata": {},
   "source": [
    "### 3.1 Converting tweets data to string and lower case "
   ]
  },
  {
   "cell_type": "code",
   "execution_count": 19,
   "id": "df6aa0eb",
   "metadata": {},
   "outputs": [],
   "source": [
    "def tweet_to_text(tweet):   \n",
    "    tweet = str(tweet).lower() #Make the text lowercase.\n",
    "    return tweet\n",
    "df['tweet_stage_1'] = df['tweet'].apply(tweet_to_text)   "
   ]
  },
  {
   "cell_type": "code",
   "execution_count": 20,
   "id": "761fb2a2",
   "metadata": {},
   "outputs": [
    {
     "data": {
      "text/html": [
       "<div>\n",
       "<style scoped>\n",
       "    .dataframe tbody tr th:only-of-type {\n",
       "        vertical-align: middle;\n",
       "    }\n",
       "\n",
       "    .dataframe tbody tr th {\n",
       "        vertical-align: top;\n",
       "    }\n",
       "\n",
       "    .dataframe thead th {\n",
       "        text-align: right;\n",
       "    }\n",
       "</style>\n",
       "<table border=\"1\" class=\"dataframe\">\n",
       "  <thead>\n",
       "    <tr style=\"text-align: right;\">\n",
       "      <th></th>\n",
       "      <th>tweet</th>\n",
       "      <th>tweet_stage_1</th>\n",
       "    </tr>\n",
       "  </thead>\n",
       "  <tbody>\n",
       "    <tr>\n",
       "      <th>4443</th>\n",
       "      <td>@fools_n_kings @KimDotcom The whole story woul...</td>\n",
       "      <td>@fools_n_kings @kimdotcom the whole story woul...</td>\n",
       "    </tr>\n",
       "    <tr>\n",
       "      <th>4467</th>\n",
       "      <td>Christkind Group by Maria Chabo\\n▫️All About E...</td>\n",
       "      <td>christkind group by maria chabo\\n▫️all about e...</td>\n",
       "    </tr>\n",
       "    <tr>\n",
       "      <th>4468</th>\n",
       "      <td>Christkind Group by Maria Chabo\\n▫️All About E...</td>\n",
       "      <td>christkind group by maria chabo\\n▫️all about e...</td>\n",
       "    </tr>\n",
       "    <tr>\n",
       "      <th>4476</th>\n",
       "      <td>@NVIDIAGeForce @YEAH_Jul #GiftRTX more power</td>\n",
       "      <td>@nvidiageforce @yeah_jul #giftrtx more power</td>\n",
       "    </tr>\n",
       "    <tr>\n",
       "      <th>4485</th>\n",
       "      <td>\"Withdraw the amendment. Same dogs, same law. ...</td>\n",
       "      <td>\"withdraw the amendment. same dogs, same law. ...</td>\n",
       "    </tr>\n",
       "  </tbody>\n",
       "</table>\n",
       "</div>"
      ],
      "text/plain": [
       "                                                  tweet  \\\n",
       "4443  @fools_n_kings @KimDotcom The whole story woul...   \n",
       "4467  Christkind Group by Maria Chabo\\n▫️All About E...   \n",
       "4468  Christkind Group by Maria Chabo\\n▫️All About E...   \n",
       "4476       @NVIDIAGeForce @YEAH_Jul #GiftRTX more power   \n",
       "4485  \"Withdraw the amendment. Same dogs, same law. ...   \n",
       "\n",
       "                                          tweet_stage_1  \n",
       "4443  @fools_n_kings @kimdotcom the whole story woul...  \n",
       "4467  christkind group by maria chabo\\n▫️all about e...  \n",
       "4468  christkind group by maria chabo\\n▫️all about e...  \n",
       "4476       @nvidiageforce @yeah_jul #giftrtx more power  \n",
       "4485  \"withdraw the amendment. same dogs, same law. ...  "
      ]
     },
     "execution_count": 20,
     "metadata": {},
     "output_type": "execute_result"
    }
   ],
   "source": [
    "text_tweets = df[['tweet', 'tweet_stage_1']]\n",
    "text_tweets.tail()"
   ]
  },
  {
   "cell_type": "markdown",
   "id": "2cd8201a",
   "metadata": {},
   "source": [
    "### 3.2 Removing none characters elements such as usernames, urls etc. from tweets data\n",
    "    "
   ]
  },
  {
   "cell_type": "code",
   "execution_count": 21,
   "id": "7c3b871b",
   "metadata": {},
   "outputs": [],
   "source": [
    "def tweet_cleaning(tweet):\n",
    "    tweet = re.sub(r'[^a-z A-Z]', ' ',tweet) #Remove all not characters\n",
    "    tweet = re.sub(r'@[A-Za-z0–9]+', '',tweet) #remove usernames \n",
    "    tweet = re.sub(r'@\\w+', ' ', tweet) #remove usernames\n",
    "    tweet = re.sub(r'https?:\\/\\/.*[\\r\\n]*', '', tweet) #remove website\n",
    "    tweet = re.sub('https?://\\S+|www\\.\\S+', '', tweet)  #remove all websites\n",
    "    tweet = re.sub(r'http\\S+', ' ', tweet) #remove all Url\n",
    "    tweet = re.sub(r'#[A-Za-z0–9]+', '', tweet) #remove hashtags\n",
    "    tweet = re.sub(r'\\b\\w{1}\\b', '', tweet) #remove stopwords\n",
    "    tweet = re.sub(r'&(?![A-Za-z]+[0-9]*;|#[0-9]+;|#x[0-9a-fA-F]+;)', '', tweet)\n",
    "    tweet = re.sub(r'&amp', '', tweet)\n",
    "    tweet = re.sub('\\n', '', tweet) #Remove line breaks.\n",
    "    tweet = re.sub('[%s]' % re.escape(string.punctuation), '', tweet) #remove punctuation\n",
    "    tweet = re.sub('\\[.*?\\]', '', tweet) \n",
    "    tweet = re.sub(r' +', ' ', tweet) #remove extra space\n",
    "    tweets = re.sub('<.*?>+', '', tweet) \n",
    "    tweet = re.sub('\\w*\\d\\w*', '', tweet)\n",
    "    tweet = re.sub(r'^RT[\\s]+', '', tweet)  \n",
    "    return tweet"
   ]
  },
  {
   "cell_type": "code",
   "execution_count": 22,
   "id": "6a788b40",
   "metadata": {},
   "outputs": [],
   "source": [
    "df['tweet_stage_2'] = df['tweet_stage_1'].apply(tweet_cleaning)"
   ]
  },
  {
   "cell_type": "code",
   "execution_count": 23,
   "id": "a7afbd88",
   "metadata": {},
   "outputs": [
    {
     "data": {
      "text/html": [
       "<div>\n",
       "<style scoped>\n",
       "    .dataframe tbody tr th:only-of-type {\n",
       "        vertical-align: middle;\n",
       "    }\n",
       "\n",
       "    .dataframe tbody tr th {\n",
       "        vertical-align: top;\n",
       "    }\n",
       "\n",
       "    .dataframe thead th {\n",
       "        text-align: right;\n",
       "    }\n",
       "</style>\n",
       "<table border=\"1\" class=\"dataframe\">\n",
       "  <thead>\n",
       "    <tr style=\"text-align: right;\">\n",
       "      <th></th>\n",
       "      <th>tweet</th>\n",
       "      <th>tweet_stage_1</th>\n",
       "      <th>tweet_stage_2</th>\n",
       "    </tr>\n",
       "  </thead>\n",
       "  <tbody>\n",
       "    <tr>\n",
       "      <th>4443</th>\n",
       "      <td>@fools_n_kings @KimDotcom The whole story woul...</td>\n",
       "      <td>@fools_n_kings @kimdotcom the whole story woul...</td>\n",
       "      <td>fools kings kimdotcom the whole story would f...</td>\n",
       "    </tr>\n",
       "    <tr>\n",
       "      <th>4467</th>\n",
       "      <td>Christkind Group by Maria Chabo\\n▫️All About E...</td>\n",
       "      <td>christkind group by maria chabo\\n▫️all about e...</td>\n",
       "      <td>christkind group by maria chabo all about eve ...</td>\n",
       "    </tr>\n",
       "    <tr>\n",
       "      <th>4468</th>\n",
       "      <td>Christkind Group by Maria Chabo\\n▫️All About E...</td>\n",
       "      <td>christkind group by maria chabo\\n▫️all about e...</td>\n",
       "      <td>christkind group by maria chabo all about eve ...</td>\n",
       "    </tr>\n",
       "    <tr>\n",
       "      <th>4476</th>\n",
       "      <td>@NVIDIAGeForce @YEAH_Jul #GiftRTX more power</td>\n",
       "      <td>@nvidiageforce @yeah_jul #giftrtx more power</td>\n",
       "      <td>nvidiageforce yeah jul giftrtx more power</td>\n",
       "    </tr>\n",
       "    <tr>\n",
       "      <th>4485</th>\n",
       "      <td>\"Withdraw the amendment. Same dogs, same law. ...</td>\n",
       "      <td>\"withdraw the amendment. same dogs, same law. ...</td>\n",
       "      <td>withdraw the amendment same dogs same law no ...</td>\n",
       "    </tr>\n",
       "  </tbody>\n",
       "</table>\n",
       "</div>"
      ],
      "text/plain": [
       "                                                  tweet  \\\n",
       "4443  @fools_n_kings @KimDotcom The whole story woul...   \n",
       "4467  Christkind Group by Maria Chabo\\n▫️All About E...   \n",
       "4468  Christkind Group by Maria Chabo\\n▫️All About E...   \n",
       "4476       @NVIDIAGeForce @YEAH_Jul #GiftRTX more power   \n",
       "4485  \"Withdraw the amendment. Same dogs, same law. ...   \n",
       "\n",
       "                                          tweet_stage_1  \\\n",
       "4443  @fools_n_kings @kimdotcom the whole story woul...   \n",
       "4467  christkind group by maria chabo\\n▫️all about e...   \n",
       "4468  christkind group by maria chabo\\n▫️all about e...   \n",
       "4476       @nvidiageforce @yeah_jul #giftrtx more power   \n",
       "4485  \"withdraw the amendment. same dogs, same law. ...   \n",
       "\n",
       "                                          tweet_stage_2  \n",
       "4443   fools kings kimdotcom the whole story would f...  \n",
       "4467  christkind group by maria chabo all about eve ...  \n",
       "4468  christkind group by maria chabo all about eve ...  \n",
       "4476          nvidiageforce yeah jul giftrtx more power  \n",
       "4485   withdraw the amendment same dogs same law no ...  "
      ]
     },
     "execution_count": 23,
     "metadata": {},
     "output_type": "execute_result"
    }
   ],
   "source": [
    "clean_tweets = df[['tweet', 'tweet_stage_1', 'tweet_stage_2']]\n",
    "clean_tweets.tail()"
   ]
  },
  {
   "cell_type": "markdown",
   "id": "9afc6fa2",
   "metadata": {},
   "source": [
    "### 3.3 Removing stopwords from tweets data by using NLTK stopwords functionality"
   ]
  },
  {
   "cell_type": "code",
   "execution_count": 24,
   "id": "29b56104",
   "metadata": {},
   "outputs": [
    {
     "data": {
      "text/html": [
       "<div>\n",
       "<style scoped>\n",
       "    .dataframe tbody tr th:only-of-type {\n",
       "        vertical-align: middle;\n",
       "    }\n",
       "\n",
       "    .dataframe tbody tr th {\n",
       "        vertical-align: top;\n",
       "    }\n",
       "\n",
       "    .dataframe thead th {\n",
       "        text-align: right;\n",
       "    }\n",
       "</style>\n",
       "<table border=\"1\" class=\"dataframe\">\n",
       "  <thead>\n",
       "    <tr style=\"text-align: right;\">\n",
       "      <th></th>\n",
       "      <th>tweet</th>\n",
       "      <th>tweet_stage_1</th>\n",
       "      <th>tweet_stage_2</th>\n",
       "      <th>tweet_stage_3</th>\n",
       "    </tr>\n",
       "  </thead>\n",
       "  <tbody>\n",
       "    <tr>\n",
       "      <th>4443</th>\n",
       "      <td>@fools_n_kings @KimDotcom The whole story woul...</td>\n",
       "      <td>@fools_n_kings @kimdotcom the whole story woul...</td>\n",
       "      <td>fools kings kimdotcom the whole story would f...</td>\n",
       "      <td>fools kings kimdotcom whole story would fit na...</td>\n",
       "    </tr>\n",
       "    <tr>\n",
       "      <th>4467</th>\n",
       "      <td>Christkind Group by Maria Chabo\\n▫️All About E...</td>\n",
       "      <td>christkind group by maria chabo\\n▫️all about e...</td>\n",
       "      <td>christkind group by maria chabo all about eve ...</td>\n",
       "      <td>christkind group maria chabo eve co xac ps ins...</td>\n",
       "    </tr>\n",
       "    <tr>\n",
       "      <th>4468</th>\n",
       "      <td>Christkind Group by Maria Chabo\\n▫️All About E...</td>\n",
       "      <td>christkind group by maria chabo\\n▫️all about e...</td>\n",
       "      <td>christkind group by maria chabo all about eve ...</td>\n",
       "      <td>christkind group maria chabo eve co qnthpekcj ...</td>\n",
       "    </tr>\n",
       "    <tr>\n",
       "      <th>4476</th>\n",
       "      <td>@NVIDIAGeForce @YEAH_Jul #GiftRTX more power</td>\n",
       "      <td>@nvidiageforce @yeah_jul #giftrtx more power</td>\n",
       "      <td>nvidiageforce yeah jul giftrtx more power</td>\n",
       "      <td>nvidiageforce yeah jul giftrtx power</td>\n",
       "    </tr>\n",
       "    <tr>\n",
       "      <th>4485</th>\n",
       "      <td>\"Withdraw the amendment. Same dogs, same law. ...</td>\n",
       "      <td>\"withdraw the amendment. same dogs, same law. ...</td>\n",
       "      <td>withdraw the amendment same dogs same law no ...</td>\n",
       "      <td>withdraw amendment dogs law animal abuse senti...</td>\n",
       "    </tr>\n",
       "  </tbody>\n",
       "</table>\n",
       "</div>"
      ],
      "text/plain": [
       "                                                  tweet  \\\n",
       "4443  @fools_n_kings @KimDotcom The whole story woul...   \n",
       "4467  Christkind Group by Maria Chabo\\n▫️All About E...   \n",
       "4468  Christkind Group by Maria Chabo\\n▫️All About E...   \n",
       "4476       @NVIDIAGeForce @YEAH_Jul #GiftRTX more power   \n",
       "4485  \"Withdraw the amendment. Same dogs, same law. ...   \n",
       "\n",
       "                                          tweet_stage_1  \\\n",
       "4443  @fools_n_kings @kimdotcom the whole story woul...   \n",
       "4467  christkind group by maria chabo\\n▫️all about e...   \n",
       "4468  christkind group by maria chabo\\n▫️all about e...   \n",
       "4476       @nvidiageforce @yeah_jul #giftrtx more power   \n",
       "4485  \"withdraw the amendment. same dogs, same law. ...   \n",
       "\n",
       "                                          tweet_stage_2  \\\n",
       "4443   fools kings kimdotcom the whole story would f...   \n",
       "4467  christkind group by maria chabo all about eve ...   \n",
       "4468  christkind group by maria chabo all about eve ...   \n",
       "4476          nvidiageforce yeah jul giftrtx more power   \n",
       "4485   withdraw the amendment same dogs same law no ...   \n",
       "\n",
       "                                          tweet_stage_3  \n",
       "4443  fools kings kimdotcom whole story would fit na...  \n",
       "4467  christkind group maria chabo eve co xac ps ins...  \n",
       "4468  christkind group maria chabo eve co qnthpekcj ...  \n",
       "4476               nvidiageforce yeah jul giftrtx power  \n",
       "4485  withdraw amendment dogs law animal abuse senti...  "
      ]
     },
     "execution_count": 24,
     "metadata": {},
     "output_type": "execute_result"
    }
   ],
   "source": [
    "stopwords = nltk.corpus.stopwords.words('english') \n",
    "df['tweet_stage_3'] = df['tweet_stage_2'].apply(\n",
    "    lambda x: \" \".join(x for x in x.split() if x not in stopwords))\n",
    "\n",
    "tweet_without_stopwords =df[['tweet','tweet_stage_1','tweet_stage_2','tweet_stage_3']]\n",
    "tweet_without_stopwords.tail()"
   ]
  },
  {
   "cell_type": "markdown",
   "id": "3a11d4a1",
   "metadata": {
    "scrolled": true
   },
   "source": [
    "### 3.4 Stemming tweets data with NLTK PorterStemmer"
   ]
  },
  {
   "cell_type": "code",
   "execution_count": 25,
   "id": "08d28b79",
   "metadata": {},
   "outputs": [
    {
     "data": {
      "text/html": [
       "<div>\n",
       "<style scoped>\n",
       "    .dataframe tbody tr th:only-of-type {\n",
       "        vertical-align: middle;\n",
       "    }\n",
       "\n",
       "    .dataframe tbody tr th {\n",
       "        vertical-align: top;\n",
       "    }\n",
       "\n",
       "    .dataframe thead th {\n",
       "        text-align: right;\n",
       "    }\n",
       "</style>\n",
       "<table border=\"1\" class=\"dataframe\">\n",
       "  <thead>\n",
       "    <tr style=\"text-align: right;\">\n",
       "      <th></th>\n",
       "      <th>tweet</th>\n",
       "      <th>tweet_stage_1</th>\n",
       "      <th>tweet_stage_2</th>\n",
       "      <th>tweet_stage_3</th>\n",
       "      <th>tweet_stage_4</th>\n",
       "    </tr>\n",
       "  </thead>\n",
       "  <tbody>\n",
       "    <tr>\n",
       "      <th>4443</th>\n",
       "      <td>@fools_n_kings @KimDotcom The whole story woul...</td>\n",
       "      <td>@fools_n_kings @kimdotcom the whole story woul...</td>\n",
       "      <td>fools kings kimdotcom the whole story would f...</td>\n",
       "      <td>fools kings kimdotcom whole story would fit na...</td>\n",
       "      <td>fool king kimdotcom whole stori would fit narr...</td>\n",
       "    </tr>\n",
       "    <tr>\n",
       "      <th>4467</th>\n",
       "      <td>Christkind Group by Maria Chabo\\n▫️All About E...</td>\n",
       "      <td>christkind group by maria chabo\\n▫️all about e...</td>\n",
       "      <td>christkind group by maria chabo all about eve ...</td>\n",
       "      <td>christkind group maria chabo eve co xac ps ins...</td>\n",
       "      <td>christkind group maria chabo eve co xac ps ins...</td>\n",
       "    </tr>\n",
       "    <tr>\n",
       "      <th>4468</th>\n",
       "      <td>Christkind Group by Maria Chabo\\n▫️All About E...</td>\n",
       "      <td>christkind group by maria chabo\\n▫️all about e...</td>\n",
       "      <td>christkind group by maria chabo all about eve ...</td>\n",
       "      <td>christkind group maria chabo eve co qnthpekcj ...</td>\n",
       "      <td>christkind group maria chabo eve co qnthpekcj ...</td>\n",
       "    </tr>\n",
       "    <tr>\n",
       "      <th>4476</th>\n",
       "      <td>@NVIDIAGeForce @YEAH_Jul #GiftRTX more power</td>\n",
       "      <td>@nvidiageforce @yeah_jul #giftrtx more power</td>\n",
       "      <td>nvidiageforce yeah jul giftrtx more power</td>\n",
       "      <td>nvidiageforce yeah jul giftrtx power</td>\n",
       "      <td>nvidiageforc yeah jul giftrtx power</td>\n",
       "    </tr>\n",
       "    <tr>\n",
       "      <th>4485</th>\n",
       "      <td>\"Withdraw the amendment. Same dogs, same law. ...</td>\n",
       "      <td>\"withdraw the amendment. same dogs, same law. ...</td>\n",
       "      <td>withdraw the amendment same dogs same law no ...</td>\n",
       "      <td>withdraw amendment dogs law animal abuse senti...</td>\n",
       "      <td>withdraw amend dog law anim abus sentient live...</td>\n",
       "    </tr>\n",
       "  </tbody>\n",
       "</table>\n",
       "</div>"
      ],
      "text/plain": [
       "                                                  tweet  \\\n",
       "4443  @fools_n_kings @KimDotcom The whole story woul...   \n",
       "4467  Christkind Group by Maria Chabo\\n▫️All About E...   \n",
       "4468  Christkind Group by Maria Chabo\\n▫️All About E...   \n",
       "4476       @NVIDIAGeForce @YEAH_Jul #GiftRTX more power   \n",
       "4485  \"Withdraw the amendment. Same dogs, same law. ...   \n",
       "\n",
       "                                          tweet_stage_1  \\\n",
       "4443  @fools_n_kings @kimdotcom the whole story woul...   \n",
       "4467  christkind group by maria chabo\\n▫️all about e...   \n",
       "4468  christkind group by maria chabo\\n▫️all about e...   \n",
       "4476       @nvidiageforce @yeah_jul #giftrtx more power   \n",
       "4485  \"withdraw the amendment. same dogs, same law. ...   \n",
       "\n",
       "                                          tweet_stage_2  \\\n",
       "4443   fools kings kimdotcom the whole story would f...   \n",
       "4467  christkind group by maria chabo all about eve ...   \n",
       "4468  christkind group by maria chabo all about eve ...   \n",
       "4476          nvidiageforce yeah jul giftrtx more power   \n",
       "4485   withdraw the amendment same dogs same law no ...   \n",
       "\n",
       "                                          tweet_stage_3  \\\n",
       "4443  fools kings kimdotcom whole story would fit na...   \n",
       "4467  christkind group maria chabo eve co xac ps ins...   \n",
       "4468  christkind group maria chabo eve co qnthpekcj ...   \n",
       "4476               nvidiageforce yeah jul giftrtx power   \n",
       "4485  withdraw amendment dogs law animal abuse senti...   \n",
       "\n",
       "                                          tweet_stage_4  \n",
       "4443  fool king kimdotcom whole stori would fit narr...  \n",
       "4467  christkind group maria chabo eve co xac ps ins...  \n",
       "4468  christkind group maria chabo eve co qnthpekcj ...  \n",
       "4476                nvidiageforc yeah jul giftrtx power  \n",
       "4485  withdraw amend dog law anim abus sentient live...  "
      ]
     },
     "execution_count": 25,
     "metadata": {},
     "output_type": "execute_result"
    }
   ],
   "source": [
    "stemmer = PorterStemmer()\n",
    "df['tweet_stage_4'] = df['tweet_stage_3'].apply(lambda x: \" \".join([stemmer.stem(word) for word in x.split()]))\n",
    "\n",
    "tweet_after_stemming = df[['tweet','tweet_stage_1','tweet_stage_2','tweet_stage_3', 'tweet_stage_4']]\n",
    "tweet_after_stemming.tail()"
   ]
  },
  {
   "cell_type": "markdown",
   "id": "c8f5e612",
   "metadata": {},
   "source": [
    "### 3.5 Lemmatizing tweets data with NLTK WordNetLemmatizer\n",
    "##### Lemitizing convert word to its base form, for example played  will be convert to play, reading will be read etc."
   ]
  },
  {
   "cell_type": "code",
   "execution_count": 26,
   "id": "a5f6bbcb",
   "metadata": {},
   "outputs": [
    {
     "data": {
      "text/html": [
       "<div>\n",
       "<style scoped>\n",
       "    .dataframe tbody tr th:only-of-type {\n",
       "        vertical-align: middle;\n",
       "    }\n",
       "\n",
       "    .dataframe tbody tr th {\n",
       "        vertical-align: top;\n",
       "    }\n",
       "\n",
       "    .dataframe thead th {\n",
       "        text-align: right;\n",
       "    }\n",
       "</style>\n",
       "<table border=\"1\" class=\"dataframe\">\n",
       "  <thead>\n",
       "    <tr style=\"text-align: right;\">\n",
       "      <th></th>\n",
       "      <th>tweet</th>\n",
       "      <th>tweet_stage_1</th>\n",
       "      <th>tweet_stage_2</th>\n",
       "      <th>tweet_stage_3</th>\n",
       "      <th>tweet_stage_4</th>\n",
       "      <th>tweet_stage_final</th>\n",
       "    </tr>\n",
       "  </thead>\n",
       "  <tbody>\n",
       "    <tr>\n",
       "      <th>4443</th>\n",
       "      <td>@fools_n_kings @KimDotcom The whole story woul...</td>\n",
       "      <td>@fools_n_kings @kimdotcom the whole story woul...</td>\n",
       "      <td>fools kings kimdotcom the whole story would f...</td>\n",
       "      <td>fools kings kimdotcom whole story would fit na...</td>\n",
       "      <td>fool king kimdotcom whole stori would fit narr...</td>\n",
       "      <td>fool king kimdotcom whole stori would fit narr...</td>\n",
       "    </tr>\n",
       "    <tr>\n",
       "      <th>4467</th>\n",
       "      <td>Christkind Group by Maria Chabo\\n▫️All About E...</td>\n",
       "      <td>christkind group by maria chabo\\n▫️all about e...</td>\n",
       "      <td>christkind group by maria chabo all about eve ...</td>\n",
       "      <td>christkind group maria chabo eve co xac ps ins...</td>\n",
       "      <td>christkind group maria chabo eve co xac ps ins...</td>\n",
       "      <td>christkind group maria chabo eve co xac p inst...</td>\n",
       "    </tr>\n",
       "    <tr>\n",
       "      <th>4468</th>\n",
       "      <td>Christkind Group by Maria Chabo\\n▫️All About E...</td>\n",
       "      <td>christkind group by maria chabo\\n▫️all about e...</td>\n",
       "      <td>christkind group by maria chabo all about eve ...</td>\n",
       "      <td>christkind group maria chabo eve co qnthpekcj ...</td>\n",
       "      <td>christkind group maria chabo eve co qnthpekcj ...</td>\n",
       "      <td>christkind group maria chabo eve co qnthpekcj ...</td>\n",
       "    </tr>\n",
       "    <tr>\n",
       "      <th>4476</th>\n",
       "      <td>@NVIDIAGeForce @YEAH_Jul #GiftRTX more power</td>\n",
       "      <td>@nvidiageforce @yeah_jul #giftrtx more power</td>\n",
       "      <td>nvidiageforce yeah jul giftrtx more power</td>\n",
       "      <td>nvidiageforce yeah jul giftrtx power</td>\n",
       "      <td>nvidiageforc yeah jul giftrtx power</td>\n",
       "      <td>nvidiageforc yeah jul giftrtx power</td>\n",
       "    </tr>\n",
       "    <tr>\n",
       "      <th>4485</th>\n",
       "      <td>\"Withdraw the amendment. Same dogs, same law. ...</td>\n",
       "      <td>\"withdraw the amendment. same dogs, same law. ...</td>\n",
       "      <td>withdraw the amendment same dogs same law no ...</td>\n",
       "      <td>withdraw amendment dogs law animal abuse senti...</td>\n",
       "      <td>withdraw amend dog law anim abus sentient live...</td>\n",
       "      <td>withdraw amend dog law anim abus sentient live...</td>\n",
       "    </tr>\n",
       "  </tbody>\n",
       "</table>\n",
       "</div>"
      ],
      "text/plain": [
       "                                                  tweet  \\\n",
       "4443  @fools_n_kings @KimDotcom The whole story woul...   \n",
       "4467  Christkind Group by Maria Chabo\\n▫️All About E...   \n",
       "4468  Christkind Group by Maria Chabo\\n▫️All About E...   \n",
       "4476       @NVIDIAGeForce @YEAH_Jul #GiftRTX more power   \n",
       "4485  \"Withdraw the amendment. Same dogs, same law. ...   \n",
       "\n",
       "                                          tweet_stage_1  \\\n",
       "4443  @fools_n_kings @kimdotcom the whole story woul...   \n",
       "4467  christkind group by maria chabo\\n▫️all about e...   \n",
       "4468  christkind group by maria chabo\\n▫️all about e...   \n",
       "4476       @nvidiageforce @yeah_jul #giftrtx more power   \n",
       "4485  \"withdraw the amendment. same dogs, same law. ...   \n",
       "\n",
       "                                          tweet_stage_2  \\\n",
       "4443   fools kings kimdotcom the whole story would f...   \n",
       "4467  christkind group by maria chabo all about eve ...   \n",
       "4468  christkind group by maria chabo all about eve ...   \n",
       "4476          nvidiageforce yeah jul giftrtx more power   \n",
       "4485   withdraw the amendment same dogs same law no ...   \n",
       "\n",
       "                                          tweet_stage_3  \\\n",
       "4443  fools kings kimdotcom whole story would fit na...   \n",
       "4467  christkind group maria chabo eve co xac ps ins...   \n",
       "4468  christkind group maria chabo eve co qnthpekcj ...   \n",
       "4476               nvidiageforce yeah jul giftrtx power   \n",
       "4485  withdraw amendment dogs law animal abuse senti...   \n",
       "\n",
       "                                          tweet_stage_4  \\\n",
       "4443  fool king kimdotcom whole stori would fit narr...   \n",
       "4467  christkind group maria chabo eve co xac ps ins...   \n",
       "4468  christkind group maria chabo eve co qnthpekcj ...   \n",
       "4476                nvidiageforc yeah jul giftrtx power   \n",
       "4485  withdraw amend dog law anim abus sentient live...   \n",
       "\n",
       "                                      tweet_stage_final  \n",
       "4443  fool king kimdotcom whole stori would fit narr...  \n",
       "4467  christkind group maria chabo eve co xac p inst...  \n",
       "4468  christkind group maria chabo eve co qnthpekcj ...  \n",
       "4476                nvidiageforc yeah jul giftrtx power  \n",
       "4485  withdraw amend dog law anim abus sentient live...  "
      ]
     },
     "execution_count": 26,
     "metadata": {},
     "output_type": "execute_result"
    }
   ],
   "source": [
    "lemmatizer = WordNetLemmatizer()\n",
    "df['tweet_stage_final'] = df['tweet_stage_4'].apply(\n",
    "    lambda x: \" \".join([lemmatizer.lemmatize(word) for word in x.split()]))\n",
    "tweet_after_lemmatizing = df[['tweet','tweet_stage_1','tweet_stage_2','tweet_stage_3', 'tweet_stage_4', 'tweet_stage_final']]\n",
    "tweet_after_lemmatizing.tail()"
   ]
  },
  {
   "cell_type": "markdown",
   "id": "a6ba3607",
   "metadata": {},
   "source": [
    "### 3.6 Vectorizing tweets data by using CountVectorizer with ngrame_range (1,3) mean  unigrams, bigrams, and trigrams."
   ]
  },
  {
   "cell_type": "code",
   "execution_count": 27,
   "id": "115d10cd",
   "metadata": {},
   "outputs": [
    {
     "data": {
      "text/plain": [
       "(454, 12668)"
      ]
     },
     "execution_count": 27,
     "metadata": {},
     "output_type": "execute_result"
    }
   ],
   "source": [
    "vectorizer = CountVectorizer(min_df=1,max_df=0.95,ngram_range=(1,3),stop_words='english')\n",
    "count_vector_tweet = vectorizer.fit_transform(df['tweet_stage_final'])\n",
    "count_vector_tweet.shape"
   ]
  },
  {
   "cell_type": "markdown",
   "id": "0d523e3b",
   "metadata": {},
   "source": [
    "### 3.7 Vectorizing tweets data by using TF-IDF with ngram_range (1,3) mean unigrams, bigrams, and trigrams."
   ]
  },
  {
   "cell_type": "code",
   "execution_count": 28,
   "id": "80c635df",
   "metadata": {},
   "outputs": [
    {
     "data": {
      "text/plain": [
       "(454, 12668)"
      ]
     },
     "execution_count": 28,
     "metadata": {},
     "output_type": "execute_result"
    }
   ],
   "source": [
    "tf_idf = TfidfVectorizer(min_df=1 ,max_df=0.95, ngram_range=(1,3),stop_words='english')\n",
    "tf_idf_tweet = tf_idf.fit_transform(df['tweet_stage_final'])\n",
    "tf_idf_tweet.shape"
   ]
  },
  {
   "cell_type": "markdown",
   "id": "fe70172d",
   "metadata": {},
   "source": [
    "## 3.8 Topic modeling by using Latent Dirichlet Allocation (LDA) with CountVectorizer"
   ]
  },
  {
   "cell_type": "code",
   "execution_count": 29,
   "id": "dacda5ee",
   "metadata": {},
   "outputs": [
    {
     "data": {
      "text/plain": [
       "LatentDirichletAllocation(n_components=5, random_state=42)"
      ]
     },
     "execution_count": 29,
     "metadata": {},
     "output_type": "execute_result"
    }
   ],
   "source": [
    "LDA_with_CountVector = LatentDirichletAllocation(n_components=5,random_state=42)\n",
    "LDA_with_CountVector.fit(count_vector_tweet)"
   ]
  },
  {
   "cell_type": "code",
   "execution_count": 30,
   "id": "0d37a210",
   "metadata": {},
   "outputs": [
    {
     "data": {
      "text/plain": [
       "array([[0.20000122, 1.20019062, 1.19999818, ..., 1.19999818, 0.20000076,\n",
       "        0.20000076],\n",
       "       [0.20000144, 0.20000252, 0.20000047, ..., 0.20000047, 1.19999667,\n",
       "        1.19999667],\n",
       "       [0.20000134, 0.20000232, 0.20000043, ..., 0.20000043, 0.20000082,\n",
       "        0.20000082],\n",
       "       [0.20000136, 1.19980203, 0.20000045, ..., 0.20000045, 0.20000084,\n",
       "        0.20000084],\n",
       "       [1.19999464, 0.20000251, 0.20000047, ..., 0.20000047, 0.20000092,\n",
       "        0.20000092]])"
      ]
     },
     "execution_count": 30,
     "metadata": {},
     "output_type": "execute_result"
    }
   ],
   "source": [
    "LDA_with_CountVector.components_"
   ]
  },
  {
   "cell_type": "code",
   "execution_count": 31,
   "id": "7c118355",
   "metadata": {},
   "outputs": [],
   "source": [
    "#topic = LDA_with_CountVector.components_[0]\n",
    "#topic.argsort()"
   ]
  },
  {
   "cell_type": "code",
   "execution_count": 32,
   "id": "fff5c594",
   "metadata": {},
   "outputs": [],
   "source": [
    "#len(topic)"
   ]
  },
  {
   "cell_type": "code",
   "execution_count": 33,
   "id": "dd7ebf36",
   "metadata": {},
   "outputs": [],
   "source": [
    "# Top 10 words for topic [2]:\n",
    "#topic[4]\n",
    "#topic.argsort()[-10:]"
   ]
  },
  {
   "cell_type": "code",
   "execution_count": 34,
   "id": "5f9007de",
   "metadata": {},
   "outputs": [],
   "source": [
    "#Printing 10 words for topic [4]:\n",
    "#top_words_in_topic = topic.argsort()[-10:]\n",
    "#for index in top_words_in_topic:\n",
    "#    print(vectorizer.get_feature_names()[index])"
   ]
  },
  {
   "cell_type": "code",
   "execution_count": 35,
   "id": "8103df7d",
   "metadata": {},
   "outputs": [
    {
     "name": "stdout",
     "output_type": "stream",
     "text": [
      "Topic 0: \n",
      "['christianwomen', 'group', 'cm', 'eve', 'share', 'youtub', 'amp', 'vintag', 'etsi', 'christian']\n",
      "Topic 1: \n",
      "['aiart nightcaf', 'nightcaf digitalart', 'aiart nightcaf digitalart', 'nightcafestudio', 'digitalart', 'aiart', 'thank', 'new', 'youtub', 'year']\n",
      "Topic 2: \n",
      "['allabouteveshop christian influenc', 'christian influenc jewelri', 'allabouteveshop christian', 'insta', 'influenc jewelri', 'influenc', 'maria chabo', 'eve', 'christian', 'group']\n",
      "Topic 3: \n",
      "['aprn', 'ritschi', 'castl firefli', 'therooki castl firefli', 'firefli', 'therooki', 'firefli chrissychatt', 'nathanfillion therooki', 'happi', 'castl']\n",
      "Topic 4: \n",
      "['happi', 'digitalart', 'nightcafestudio', 'aiart nightcaf digitalart', 'nightcaf digitalart', 'aiart nightcaf', 'nightcaf', 'aiart', 'christma', 'year']\n"
     ]
    }
   ],
   "source": [
    "for index,topic in enumerate(LDA_with_CountVector.components_):\n",
    "    print(f'Topic {index}'+ ': ')\n",
    "    print([vectorizer.get_feature_names()[i] for i in topic.argsort()[-10:]])"
   ]
  },
  {
   "cell_type": "markdown",
   "id": "884ee6ce",
   "metadata": {},
   "source": [
    "### 3.8.1Tweets and their corresponding Topics by using LDA with CountVector "
   ]
  },
  {
   "cell_type": "code",
   "execution_count": 36,
   "id": "52da2005",
   "metadata": {},
   "outputs": [
    {
     "data": {
      "text/html": [
       "<div>\n",
       "<style scoped>\n",
       "    .dataframe tbody tr th:only-of-type {\n",
       "        vertical-align: middle;\n",
       "    }\n",
       "\n",
       "    .dataframe tbody tr th {\n",
       "        vertical-align: top;\n",
       "    }\n",
       "\n",
       "    .dataframe thead th {\n",
       "        text-align: right;\n",
       "    }\n",
       "</style>\n",
       "<table border=\"1\" class=\"dataframe\">\n",
       "  <thead>\n",
       "    <tr style=\"text-align: right;\">\n",
       "      <th></th>\n",
       "      <th>tweet</th>\n",
       "      <th>tweet_stage_final</th>\n",
       "      <th>LDA_CountVector_Topic</th>\n",
       "    </tr>\n",
       "  </thead>\n",
       "  <tbody>\n",
       "    <tr>\n",
       "      <th>4348</th>\n",
       "      <td>UN #Biodiversity2022 Conference #Guterres and ...</td>\n",
       "      <td>un biodivers confer guterr wef agenda klaussch...</td>\n",
       "      <td>3</td>\n",
       "    </tr>\n",
       "    <tr>\n",
       "      <th>4349</th>\n",
       "      <td>Good Morning #NateNerds !\\n\\nNever underestima...</td>\n",
       "      <td>good morn natenerd never underestim power hope...</td>\n",
       "      <td>2</td>\n",
       "    </tr>\n",
       "    <tr>\n",
       "      <th>4350</th>\n",
       "      <td>Happy Tuesday #Fillionaires &amp;amp; #Browncoats ...</td>\n",
       "      <td>happi tuesday fillionair amp browncoat amaz sh...</td>\n",
       "      <td>3</td>\n",
       "    </tr>\n",
       "    <tr>\n",
       "      <th>4424</th>\n",
       "      <td>This is so sad.\\n\\nTerry Hall was the self-ass...</td>\n",
       "      <td>sad terri hall self assur eye special storm co...</td>\n",
       "      <td>2</td>\n",
       "    </tr>\n",
       "    <tr>\n",
       "      <th>4436</th>\n",
       "      <td>Hey @elonmusk, honest question: Will we actual...</td>\n",
       "      <td>hey elonmusk honest question actual get twitte...</td>\n",
       "      <td>4</td>\n",
       "    </tr>\n",
       "    <tr>\n",
       "      <th>4443</th>\n",
       "      <td>@fools_n_kings @KimDotcom The whole story woul...</td>\n",
       "      <td>fool king kimdotcom whole stori would fit narr...</td>\n",
       "      <td>4</td>\n",
       "    </tr>\n",
       "    <tr>\n",
       "      <th>4467</th>\n",
       "      <td>Christkind Group by Maria Chabo\\n▫️All About E...</td>\n",
       "      <td>christkind group maria chabo eve co xac p inst...</td>\n",
       "      <td>0</td>\n",
       "    </tr>\n",
       "    <tr>\n",
       "      <th>4468</th>\n",
       "      <td>Christkind Group by Maria Chabo\\n▫️All About E...</td>\n",
       "      <td>christkind group maria chabo eve co qnthpekcj ...</td>\n",
       "      <td>0</td>\n",
       "    </tr>\n",
       "    <tr>\n",
       "      <th>4476</th>\n",
       "      <td>@NVIDIAGeForce @YEAH_Jul #GiftRTX more power</td>\n",
       "      <td>nvidiageforc yeah jul giftrtx power</td>\n",
       "      <td>3</td>\n",
       "    </tr>\n",
       "    <tr>\n",
       "      <th>4485</th>\n",
       "      <td>\"Withdraw the amendment. Same dogs, same law. ...</td>\n",
       "      <td>withdraw amend dog law anim abus sentient live...</td>\n",
       "      <td>3</td>\n",
       "    </tr>\n",
       "  </tbody>\n",
       "</table>\n",
       "</div>"
      ],
      "text/plain": [
       "                                                  tweet  \\\n",
       "4348  UN #Biodiversity2022 Conference #Guterres and ...   \n",
       "4349  Good Morning #NateNerds !\\n\\nNever underestima...   \n",
       "4350  Happy Tuesday #Fillionaires &amp; #Browncoats ...   \n",
       "4424  This is so sad.\\n\\nTerry Hall was the self-ass...   \n",
       "4436  Hey @elonmusk, honest question: Will we actual...   \n",
       "4443  @fools_n_kings @KimDotcom The whole story woul...   \n",
       "4467  Christkind Group by Maria Chabo\\n▫️All About E...   \n",
       "4468  Christkind Group by Maria Chabo\\n▫️All About E...   \n",
       "4476       @NVIDIAGeForce @YEAH_Jul #GiftRTX more power   \n",
       "4485  \"Withdraw the amendment. Same dogs, same law. ...   \n",
       "\n",
       "                                      tweet_stage_final  LDA_CountVector_Topic  \n",
       "4348  un biodivers confer guterr wef agenda klaussch...                      3  \n",
       "4349  good morn natenerd never underestim power hope...                      2  \n",
       "4350  happi tuesday fillionair amp browncoat amaz sh...                      3  \n",
       "4424  sad terri hall self assur eye special storm co...                      2  \n",
       "4436  hey elonmusk honest question actual get twitte...                      4  \n",
       "4443  fool king kimdotcom whole stori would fit narr...                      4  \n",
       "4467  christkind group maria chabo eve co xac p inst...                      0  \n",
       "4468  christkind group maria chabo eve co qnthpekcj ...                      0  \n",
       "4476                nvidiageforc yeah jul giftrtx power                      3  \n",
       "4485  withdraw amend dog law anim abus sentient live...                      3  "
      ]
     },
     "execution_count": 36,
     "metadata": {},
     "output_type": "execute_result"
    }
   ],
   "source": [
    "LDA_CountVector_Topic = LDA_with_CountVector.transform(count_vector_tweet)\n",
    "LDA_CountVector_Topic[0].argmax()\n",
    "LDA_CountVector_Topic.argmax(axis=1)\n",
    "df['LDA_CountVector_Topic'] = LDA_CountVector_Topic.argmax(axis=1)\n",
    "df[['tweet','tweet_stage_final', 'LDA_CountVector_Topic']].tail(10)"
   ]
  },
  {
   "cell_type": "markdown",
   "id": "342574ae",
   "metadata": {},
   "source": [
    "## 3.9 Topic modeling by using Latent Dirichlet Allocation (LDA) with TF_IDF"
   ]
  },
  {
   "cell_type": "code",
   "execution_count": 37,
   "id": "a1e6ee58",
   "metadata": {},
   "outputs": [
    {
     "data": {
      "text/plain": [
       "LatentDirichletAllocation(n_components=5, random_state=42)"
      ]
     },
     "execution_count": 37,
     "metadata": {},
     "output_type": "execute_result"
    }
   ],
   "source": [
    "LDA_with_tfidf = LatentDirichletAllocation(n_components=5,random_state=42)\n",
    "LDA_with_tfidf.fit(tf_idf_tweet)"
   ]
  },
  {
   "cell_type": "code",
   "execution_count": 38,
   "id": "77a1ed14",
   "metadata": {},
   "outputs": [
    {
     "data": {
      "text/plain": [
       "array([[0.20001339, 0.30379863, 0.31087331, ..., 0.31087331, 0.20001244,\n",
       "        0.20001244],\n",
       "       [0.2000142 , 0.20002586, 0.20000986, ..., 0.20000986, 0.36261588,\n",
       "        0.36261588],\n",
       "       [0.20001378, 0.20002515, 0.20000959, ..., 0.20000959, 0.20001267,\n",
       "        0.20001267],\n",
       "       [0.20001356, 0.20002498, 0.20000959, ..., 0.20000959, 0.20001259,\n",
       "        0.20001259],\n",
       "       [0.40573514, 0.42162679, 0.20001004, ..., 0.20001004, 0.20001337,\n",
       "        0.20001337]])"
      ]
     },
     "execution_count": 38,
     "metadata": {},
     "output_type": "execute_result"
    }
   ],
   "source": [
    "LDA_with_tfidf.components_"
   ]
  },
  {
   "cell_type": "code",
   "execution_count": 39,
   "id": "1c95d507",
   "metadata": {},
   "outputs": [
    {
     "data": {
      "text/plain": [
       "array([ 1626,   559,  3999, ...,  2074, 11793,  3445], dtype=int64)"
      ]
     },
     "execution_count": 39,
     "metadata": {},
     "output_type": "execute_result"
    }
   ],
   "source": [
    "topic = LDA_with_tfidf.components_[0]\n",
    "topic.argsort()"
   ]
  },
  {
   "cell_type": "code",
   "execution_count": 40,
   "id": "6f60704f",
   "metadata": {},
   "outputs": [
    {
     "name": "stdout",
     "output_type": "stream",
     "text": [
      "Topic 0: \n",
      "['share makeitmeaning', 'handmad cushion', 'christma', 'cover', 'youtub', 'holiday', 'share', 'cm', 'vintag', 'etsi']\n",
      "Topic 1: \n",
      "['merrychristma', 'thank', 'christma', 'azur', 'spi famili', 'spi', 'happi', 'new', 'like', 'year']\n",
      "Topic 2: \n",
      "['christkind group maria', 'mariachabo', 'christlichefrauen', 'christlichefrauen mariachabo', 'njpw njwk', 'njwk', 'njpwworld', 'njpw njwk njpwworld', 'njwk njpwworld', 'njpw']\n",
      "Topic 3: \n",
      "['group maria', 'maria chabo eve', 'maria chabo', 'maria', 'influenc', 'christian influenc', 'insta allabouteveshop', 'group', 'castl', 'christian']\n",
      "Topic 4: \n",
      "['digitalart', 'nightcafestudio', 'aiart nightcaf', 'nightcaf', 'nightcaf digitalart', 'merri', 'merri christma', 'aiart', 'year', 'christma']\n"
     ]
    }
   ],
   "source": [
    "for index,topic in enumerate(LDA_with_tfidf.components_):\n",
    "    print(f'Topic {index}'+ ': ')\n",
    "    print([tf_idf.get_feature_names()[i] for i in topic.argsort()[-10:]]) "
   ]
  },
  {
   "cell_type": "markdown",
   "id": "f08ae233",
   "metadata": {},
   "source": [
    "### 3.9.1Tweets and their corresponding Topics by using LDA with TF-IDF"
   ]
  },
  {
   "cell_type": "code",
   "execution_count": 41,
   "id": "a7f99a70",
   "metadata": {},
   "outputs": [
    {
     "data": {
      "text/html": [
       "<div>\n",
       "<style scoped>\n",
       "    .dataframe tbody tr th:only-of-type {\n",
       "        vertical-align: middle;\n",
       "    }\n",
       "\n",
       "    .dataframe tbody tr th {\n",
       "        vertical-align: top;\n",
       "    }\n",
       "\n",
       "    .dataframe thead th {\n",
       "        text-align: right;\n",
       "    }\n",
       "</style>\n",
       "<table border=\"1\" class=\"dataframe\">\n",
       "  <thead>\n",
       "    <tr style=\"text-align: right;\">\n",
       "      <th></th>\n",
       "      <th>tweet</th>\n",
       "      <th>tweet_stage_final</th>\n",
       "      <th>LDA_TFIDF_Topic</th>\n",
       "    </tr>\n",
       "  </thead>\n",
       "  <tbody>\n",
       "    <tr>\n",
       "      <th>4348</th>\n",
       "      <td>UN #Biodiversity2022 Conference #Guterres and ...</td>\n",
       "      <td>un biodivers confer guterr wef agenda klaussch...</td>\n",
       "      <td>0</td>\n",
       "    </tr>\n",
       "    <tr>\n",
       "      <th>4349</th>\n",
       "      <td>Good Morning #NateNerds !\\n\\nNever underestima...</td>\n",
       "      <td>good morn natenerd never underestim power hope...</td>\n",
       "      <td>2</td>\n",
       "    </tr>\n",
       "    <tr>\n",
       "      <th>4350</th>\n",
       "      <td>Happy Tuesday #Fillionaires &amp;amp; #Browncoats ...</td>\n",
       "      <td>happi tuesday fillionair amp browncoat amaz sh...</td>\n",
       "      <td>3</td>\n",
       "    </tr>\n",
       "    <tr>\n",
       "      <th>4424</th>\n",
       "      <td>This is so sad.\\n\\nTerry Hall was the self-ass...</td>\n",
       "      <td>sad terri hall self assur eye special storm co...</td>\n",
       "      <td>2</td>\n",
       "    </tr>\n",
       "    <tr>\n",
       "      <th>4436</th>\n",
       "      <td>Hey @elonmusk, honest question: Will we actual...</td>\n",
       "      <td>hey elonmusk honest question actual get twitte...</td>\n",
       "      <td>4</td>\n",
       "    </tr>\n",
       "    <tr>\n",
       "      <th>4443</th>\n",
       "      <td>@fools_n_kings @KimDotcom The whole story woul...</td>\n",
       "      <td>fool king kimdotcom whole stori would fit narr...</td>\n",
       "      <td>4</td>\n",
       "    </tr>\n",
       "    <tr>\n",
       "      <th>4467</th>\n",
       "      <td>Christkind Group by Maria Chabo\\n▫️All About E...</td>\n",
       "      <td>christkind group maria chabo eve co xac p inst...</td>\n",
       "      <td>3</td>\n",
       "    </tr>\n",
       "    <tr>\n",
       "      <th>4468</th>\n",
       "      <td>Christkind Group by Maria Chabo\\n▫️All About E...</td>\n",
       "      <td>christkind group maria chabo eve co qnthpekcj ...</td>\n",
       "      <td>3</td>\n",
       "    </tr>\n",
       "    <tr>\n",
       "      <th>4476</th>\n",
       "      <td>@NVIDIAGeForce @YEAH_Jul #GiftRTX more power</td>\n",
       "      <td>nvidiageforc yeah jul giftrtx power</td>\n",
       "      <td>3</td>\n",
       "    </tr>\n",
       "    <tr>\n",
       "      <th>4485</th>\n",
       "      <td>\"Withdraw the amendment. Same dogs, same law. ...</td>\n",
       "      <td>withdraw amend dog law anim abus sentient live...</td>\n",
       "      <td>3</td>\n",
       "    </tr>\n",
       "  </tbody>\n",
       "</table>\n",
       "</div>"
      ],
      "text/plain": [
       "                                                  tweet  \\\n",
       "4348  UN #Biodiversity2022 Conference #Guterres and ...   \n",
       "4349  Good Morning #NateNerds !\\n\\nNever underestima...   \n",
       "4350  Happy Tuesday #Fillionaires &amp; #Browncoats ...   \n",
       "4424  This is so sad.\\n\\nTerry Hall was the self-ass...   \n",
       "4436  Hey @elonmusk, honest question: Will we actual...   \n",
       "4443  @fools_n_kings @KimDotcom The whole story woul...   \n",
       "4467  Christkind Group by Maria Chabo\\n▫️All About E...   \n",
       "4468  Christkind Group by Maria Chabo\\n▫️All About E...   \n",
       "4476       @NVIDIAGeForce @YEAH_Jul #GiftRTX more power   \n",
       "4485  \"Withdraw the amendment. Same dogs, same law. ...   \n",
       "\n",
       "                                      tweet_stage_final  LDA_TFIDF_Topic  \n",
       "4348  un biodivers confer guterr wef agenda klaussch...                0  \n",
       "4349  good morn natenerd never underestim power hope...                2  \n",
       "4350  happi tuesday fillionair amp browncoat amaz sh...                3  \n",
       "4424  sad terri hall self assur eye special storm co...                2  \n",
       "4436  hey elonmusk honest question actual get twitte...                4  \n",
       "4443  fool king kimdotcom whole stori would fit narr...                4  \n",
       "4467  christkind group maria chabo eve co xac p inst...                3  \n",
       "4468  christkind group maria chabo eve co qnthpekcj ...                3  \n",
       "4476                nvidiageforc yeah jul giftrtx power                3  \n",
       "4485  withdraw amend dog law anim abus sentient live...                3  "
      ]
     },
     "execution_count": 41,
     "metadata": {},
     "output_type": "execute_result"
    }
   ],
   "source": [
    "LDA_TFIDF_Topic = LDA_with_tfidf.transform(tf_idf_tweet)\n",
    "LDA_TFIDF_Topic[0].argmax()\n",
    "LDA_TFIDF_Topic.argmax(axis=1)\n",
    "df['LDA_TFIDF_Topic'] = LDA_TFIDF_Topic.argmax(axis=1)\n",
    "df[['tweet','tweet_stage_final','LDA_TFIDF_Topic']].tail(10)\n"
   ]
  },
  {
   "cell_type": "markdown",
   "id": "b98e3483",
   "metadata": {},
   "source": [
    "## 3.10 Topic modeling by using Non-Negative Matric Factorization (NMF) with CountVector"
   ]
  },
  {
   "cell_type": "code",
   "execution_count": 42,
   "id": "a33530c3",
   "metadata": {},
   "outputs": [
    {
     "data": {
      "text/plain": [
       "NMF(n_components=5, random_state=42)"
      ]
     },
     "execution_count": 42,
     "metadata": {},
     "output_type": "execute_result"
    }
   ],
   "source": [
    "NMF_with_CountVector = NMF(n_components=5, random_state=42) \n",
    "NMF_with_CountVector.fit(count_vector_tweet) \n"
   ]
  },
  {
   "cell_type": "code",
   "execution_count": 43,
   "id": "7ab0fd11",
   "metadata": {},
   "outputs": [
    {
     "data": {
      "text/plain": [
       "array([[0.00000000e+00, 0.00000000e+00, 0.00000000e+00, ...,\n",
       "        0.00000000e+00, 0.00000000e+00, 0.00000000e+00],\n",
       "       [0.00000000e+00, 1.00473414e-05, 1.00643318e-05, ...,\n",
       "        1.00643318e-05, 0.00000000e+00, 0.00000000e+00],\n",
       "       [0.00000000e+00, 1.37637369e-03, 1.37438361e-03, ...,\n",
       "        1.37438361e-03, 4.13866581e-04, 4.13866581e-04],\n",
       "       [0.00000000e+00, 1.40298427e-06, 1.40950197e-06, ...,\n",
       "        1.40950197e-06, 0.00000000e+00, 0.00000000e+00],\n",
       "       [5.13376542e-04, 3.75244334e-03, 3.73456032e-03, ...,\n",
       "        3.73456032e-03, 8.71679403e-03, 8.71679403e-03]])"
      ]
     },
     "execution_count": 43,
     "metadata": {},
     "output_type": "execute_result"
    }
   ],
   "source": [
    "NMF_with_CountVector.components_"
   ]
  },
  {
   "cell_type": "code",
   "execution_count": 44,
   "id": "fdbe5712",
   "metadata": {},
   "outputs": [
    {
     "name": "stdout",
     "output_type": "stream",
     "text": [
      "Topic 0: \n",
      "['chabo', 'christian influenc', 'allabouteveshop', 'allabouteveshop christian', 'chabo eve', 'allabouteveshop christian influenc', 'influenc jewelri', 'eve', 'group', 'christian']\n",
      "Topic 1: \n",
      "['cm vintag turkish', 'cushion', 'etsyfind festivetwitt share', 'turkish', 'cm', 'share', 'cover', 'gift', 'etsi', 'vintag']\n",
      "Topic 2: \n",
      "['therooki castl firefli', 'nathanfillion therooki castl', 'nathanfillion', 'firefli chrissychatt', 'firefli', 'chrissychatt', 'therooki', 'nathanfillion therooki', 'castl firefli chrissychatt', 'castl']\n",
      "Topic 3: \n",
      "['group maria', 'chabo', 'christkind group maria', 'christkind group', 'maria chabo eve', 'christian influenc jewelri', 'christkind', 'maria', 'eve', 'group']\n",
      "Topic 4: \n",
      "['happi', 'christma', 'year', 'nightcaf digitalart', 'nightcaf', 'nightcafestudio', 'aiart nightcaf', 'aiart nightcaf digitalart', 'digitalart', 'aiart']\n"
     ]
    }
   ],
   "source": [
    "for index,topic in enumerate(NMF_with_CountVector.components_):\n",
    "    print(f'Topic {index}'+ ': ')\n",
    "    print([vectorizer.get_feature_names()[i] for i in topic.argsort()[-10:]]) "
   ]
  },
  {
   "cell_type": "markdown",
   "id": "917e076a",
   "metadata": {},
   "source": [
    "### 3.10.1 Tweets and their corresponding Topics by using NMF with CountVector "
   ]
  },
  {
   "cell_type": "code",
   "execution_count": 45,
   "id": "9ad63bfa",
   "metadata": {},
   "outputs": [
    {
     "data": {
      "text/html": [
       "<div>\n",
       "<style scoped>\n",
       "    .dataframe tbody tr th:only-of-type {\n",
       "        vertical-align: middle;\n",
       "    }\n",
       "\n",
       "    .dataframe tbody tr th {\n",
       "        vertical-align: top;\n",
       "    }\n",
       "\n",
       "    .dataframe thead th {\n",
       "        text-align: right;\n",
       "    }\n",
       "</style>\n",
       "<table border=\"1\" class=\"dataframe\">\n",
       "  <thead>\n",
       "    <tr style=\"text-align: right;\">\n",
       "      <th></th>\n",
       "      <th>tweet</th>\n",
       "      <th>tweet_stage_final</th>\n",
       "      <th>NMF_CountVector_Topic</th>\n",
       "    </tr>\n",
       "  </thead>\n",
       "  <tbody>\n",
       "    <tr>\n",
       "      <th>4348</th>\n",
       "      <td>UN #Biodiversity2022 Conference #Guterres and ...</td>\n",
       "      <td>un biodivers confer guterr wef agenda klaussch...</td>\n",
       "      <td>4</td>\n",
       "    </tr>\n",
       "    <tr>\n",
       "      <th>4349</th>\n",
       "      <td>Good Morning #NateNerds !\\n\\nNever underestima...</td>\n",
       "      <td>good morn natenerd never underestim power hope...</td>\n",
       "      <td>2</td>\n",
       "    </tr>\n",
       "    <tr>\n",
       "      <th>4350</th>\n",
       "      <td>Happy Tuesday #Fillionaires &amp;amp; #Browncoats ...</td>\n",
       "      <td>happi tuesday fillionair amp browncoat amaz sh...</td>\n",
       "      <td>2</td>\n",
       "    </tr>\n",
       "    <tr>\n",
       "      <th>4424</th>\n",
       "      <td>This is so sad.\\n\\nTerry Hall was the self-ass...</td>\n",
       "      <td>sad terri hall self assur eye special storm co...</td>\n",
       "      <td>4</td>\n",
       "    </tr>\n",
       "    <tr>\n",
       "      <th>4436</th>\n",
       "      <td>Hey @elonmusk, honest question: Will we actual...</td>\n",
       "      <td>hey elonmusk honest question actual get twitte...</td>\n",
       "      <td>4</td>\n",
       "    </tr>\n",
       "    <tr>\n",
       "      <th>4443</th>\n",
       "      <td>@fools_n_kings @KimDotcom The whole story woul...</td>\n",
       "      <td>fool king kimdotcom whole stori would fit narr...</td>\n",
       "      <td>4</td>\n",
       "    </tr>\n",
       "    <tr>\n",
       "      <th>4467</th>\n",
       "      <td>Christkind Group by Maria Chabo\\n▫️All About E...</td>\n",
       "      <td>christkind group maria chabo eve co xac p inst...</td>\n",
       "      <td>0</td>\n",
       "    </tr>\n",
       "    <tr>\n",
       "      <th>4468</th>\n",
       "      <td>Christkind Group by Maria Chabo\\n▫️All About E...</td>\n",
       "      <td>christkind group maria chabo eve co qnthpekcj ...</td>\n",
       "      <td>0</td>\n",
       "    </tr>\n",
       "    <tr>\n",
       "      <th>4476</th>\n",
       "      <td>@NVIDIAGeForce @YEAH_Jul #GiftRTX more power</td>\n",
       "      <td>nvidiageforc yeah jul giftrtx power</td>\n",
       "      <td>2</td>\n",
       "    </tr>\n",
       "    <tr>\n",
       "      <th>4485</th>\n",
       "      <td>\"Withdraw the amendment. Same dogs, same law. ...</td>\n",
       "      <td>withdraw amend dog law anim abus sentient live...</td>\n",
       "      <td>4</td>\n",
       "    </tr>\n",
       "  </tbody>\n",
       "</table>\n",
       "</div>"
      ],
      "text/plain": [
       "                                                  tweet  \\\n",
       "4348  UN #Biodiversity2022 Conference #Guterres and ...   \n",
       "4349  Good Morning #NateNerds !\\n\\nNever underestima...   \n",
       "4350  Happy Tuesday #Fillionaires &amp; #Browncoats ...   \n",
       "4424  This is so sad.\\n\\nTerry Hall was the self-ass...   \n",
       "4436  Hey @elonmusk, honest question: Will we actual...   \n",
       "4443  @fools_n_kings @KimDotcom The whole story woul...   \n",
       "4467  Christkind Group by Maria Chabo\\n▫️All About E...   \n",
       "4468  Christkind Group by Maria Chabo\\n▫️All About E...   \n",
       "4476       @NVIDIAGeForce @YEAH_Jul #GiftRTX more power   \n",
       "4485  \"Withdraw the amendment. Same dogs, same law. ...   \n",
       "\n",
       "                                      tweet_stage_final  NMF_CountVector_Topic  \n",
       "4348  un biodivers confer guterr wef agenda klaussch...                      4  \n",
       "4349  good morn natenerd never underestim power hope...                      2  \n",
       "4350  happi tuesday fillionair amp browncoat amaz sh...                      2  \n",
       "4424  sad terri hall self assur eye special storm co...                      4  \n",
       "4436  hey elonmusk honest question actual get twitte...                      4  \n",
       "4443  fool king kimdotcom whole stori would fit narr...                      4  \n",
       "4467  christkind group maria chabo eve co xac p inst...                      0  \n",
       "4468  christkind group maria chabo eve co qnthpekcj ...                      0  \n",
       "4476                nvidiageforc yeah jul giftrtx power                      2  \n",
       "4485  withdraw amend dog law anim abus sentient live...                      4  "
      ]
     },
     "execution_count": 45,
     "metadata": {},
     "output_type": "execute_result"
    }
   ],
   "source": [
    "NMF_CountVector_Topic = NMF_with_CountVector.transform(count_vector_tweet)\n",
    "NMF_CountVector_Topic.argmax(axis=1)\n",
    "df['NMF_CountVector_Topic'] = NMF_CountVector_Topic.argmax(axis=1)\n",
    "df[['tweet','tweet_stage_final','NMF_CountVector_Topic']].tail(10)"
   ]
  },
  {
   "cell_type": "markdown",
   "id": "6cf1be8f",
   "metadata": {},
   "source": [
    "## 3.11 Topic modeling by using Non-Negative Matric Factorization (NMF) with TF_IDF"
   ]
  },
  {
   "cell_type": "code",
   "execution_count": 46,
   "id": "6f3c4ce9",
   "metadata": {},
   "outputs": [
    {
     "data": {
      "text/plain": [
       "LatentDirichletAllocation(n_components=5, random_state=42)"
      ]
     },
     "execution_count": 46,
     "metadata": {},
     "output_type": "execute_result"
    }
   ],
   "source": [
    "NMF_with_tfidf = LatentDirichletAllocation(n_components=5,random_state=42)\n",
    "NMF_with_tfidf.fit(tf_idf_tweet)"
   ]
  },
  {
   "cell_type": "code",
   "execution_count": 47,
   "id": "ec77a22d",
   "metadata": {},
   "outputs": [
    {
     "name": "stdout",
     "output_type": "stream",
     "text": [
      "Topic 0: \n",
      "['share makeitmeaning', 'handmad cushion', 'christma', 'cover', 'youtub', 'holiday', 'share', 'cm', 'vintag', 'etsi']\n",
      "Topic 1: \n",
      "['merrychristma', 'thank', 'christma', 'azur', 'spi famili', 'spi', 'happi', 'new', 'like', 'year']\n",
      "Topic 2: \n",
      "['christkind group maria', 'mariachabo', 'christlichefrauen', 'christlichefrauen mariachabo', 'njpw njwk', 'njwk', 'njpwworld', 'njpw njwk njpwworld', 'njwk njpwworld', 'njpw']\n",
      "Topic 3: \n",
      "['group maria', 'maria chabo eve', 'maria chabo', 'maria', 'influenc', 'christian influenc', 'insta allabouteveshop', 'group', 'castl', 'christian']\n",
      "Topic 4: \n",
      "['digitalart', 'nightcafestudio', 'aiart nightcaf', 'nightcaf', 'nightcaf digitalart', 'merri', 'merri christma', 'aiart', 'year', 'christma']\n"
     ]
    }
   ],
   "source": [
    "for index,topic in enumerate(NMF_with_tfidf.components_):\n",
    "    print(f'Topic {index}'+ ': ')\n",
    "    print([tf_idf.get_feature_names()[i] for i in topic.argsort()[-10:]]) "
   ]
  },
  {
   "cell_type": "code",
   "execution_count": 48,
   "id": "288430b0",
   "metadata": {},
   "outputs": [],
   "source": [
    "# Topic 0 is all about collection of hand made embroidered cushions.\n",
    "# Topic 1 is abount wishing Christmas and New Year\n",
    "# Topic 2 and Topic 3 All About Christkind Group a jewelry maker for womans.\n",
    "# Topic 4 is about creation of digital art and Artifical Intellegence (AI)   "
   ]
  },
  {
   "cell_type": "markdown",
   "id": "2656fb1f",
   "metadata": {},
   "source": [
    "### 3.11.1 Tweets and their corresponding Topics by using NMF with TF-IDF"
   ]
  },
  {
   "cell_type": "code",
   "execution_count": 49,
   "id": "32d9dafe",
   "metadata": {},
   "outputs": [
    {
     "data": {
      "text/html": [
       "<div>\n",
       "<style scoped>\n",
       "    .dataframe tbody tr th:only-of-type {\n",
       "        vertical-align: middle;\n",
       "    }\n",
       "\n",
       "    .dataframe tbody tr th {\n",
       "        vertical-align: top;\n",
       "    }\n",
       "\n",
       "    .dataframe thead th {\n",
       "        text-align: right;\n",
       "    }\n",
       "</style>\n",
       "<table border=\"1\" class=\"dataframe\">\n",
       "  <thead>\n",
       "    <tr style=\"text-align: right;\">\n",
       "      <th></th>\n",
       "      <th>tweet</th>\n",
       "      <th>tweet_stage_final</th>\n",
       "      <th>NMF_TFIDF_Topic</th>\n",
       "    </tr>\n",
       "  </thead>\n",
       "  <tbody>\n",
       "    <tr>\n",
       "      <th>4348</th>\n",
       "      <td>UN #Biodiversity2022 Conference #Guterres and ...</td>\n",
       "      <td>un biodivers confer guterr wef agenda klaussch...</td>\n",
       "      <td>0</td>\n",
       "    </tr>\n",
       "    <tr>\n",
       "      <th>4349</th>\n",
       "      <td>Good Morning #NateNerds !\\n\\nNever underestima...</td>\n",
       "      <td>good morn natenerd never underestim power hope...</td>\n",
       "      <td>2</td>\n",
       "    </tr>\n",
       "    <tr>\n",
       "      <th>4350</th>\n",
       "      <td>Happy Tuesday #Fillionaires &amp;amp; #Browncoats ...</td>\n",
       "      <td>happi tuesday fillionair amp browncoat amaz sh...</td>\n",
       "      <td>3</td>\n",
       "    </tr>\n",
       "    <tr>\n",
       "      <th>4424</th>\n",
       "      <td>This is so sad.\\n\\nTerry Hall was the self-ass...</td>\n",
       "      <td>sad terri hall self assur eye special storm co...</td>\n",
       "      <td>2</td>\n",
       "    </tr>\n",
       "    <tr>\n",
       "      <th>4436</th>\n",
       "      <td>Hey @elonmusk, honest question: Will we actual...</td>\n",
       "      <td>hey elonmusk honest question actual get twitte...</td>\n",
       "      <td>4</td>\n",
       "    </tr>\n",
       "    <tr>\n",
       "      <th>4443</th>\n",
       "      <td>@fools_n_kings @KimDotcom The whole story woul...</td>\n",
       "      <td>fool king kimdotcom whole stori would fit narr...</td>\n",
       "      <td>4</td>\n",
       "    </tr>\n",
       "    <tr>\n",
       "      <th>4467</th>\n",
       "      <td>Christkind Group by Maria Chabo\\n▫️All About E...</td>\n",
       "      <td>christkind group maria chabo eve co xac p inst...</td>\n",
       "      <td>3</td>\n",
       "    </tr>\n",
       "    <tr>\n",
       "      <th>4468</th>\n",
       "      <td>Christkind Group by Maria Chabo\\n▫️All About E...</td>\n",
       "      <td>christkind group maria chabo eve co qnthpekcj ...</td>\n",
       "      <td>3</td>\n",
       "    </tr>\n",
       "    <tr>\n",
       "      <th>4476</th>\n",
       "      <td>@NVIDIAGeForce @YEAH_Jul #GiftRTX more power</td>\n",
       "      <td>nvidiageforc yeah jul giftrtx power</td>\n",
       "      <td>3</td>\n",
       "    </tr>\n",
       "    <tr>\n",
       "      <th>4485</th>\n",
       "      <td>\"Withdraw the amendment. Same dogs, same law. ...</td>\n",
       "      <td>withdraw amend dog law anim abus sentient live...</td>\n",
       "      <td>3</td>\n",
       "    </tr>\n",
       "  </tbody>\n",
       "</table>\n",
       "</div>"
      ],
      "text/plain": [
       "                                                  tweet  \\\n",
       "4348  UN #Biodiversity2022 Conference #Guterres and ...   \n",
       "4349  Good Morning #NateNerds !\\n\\nNever underestima...   \n",
       "4350  Happy Tuesday #Fillionaires &amp; #Browncoats ...   \n",
       "4424  This is so sad.\\n\\nTerry Hall was the self-ass...   \n",
       "4436  Hey @elonmusk, honest question: Will we actual...   \n",
       "4443  @fools_n_kings @KimDotcom The whole story woul...   \n",
       "4467  Christkind Group by Maria Chabo\\n▫️All About E...   \n",
       "4468  Christkind Group by Maria Chabo\\n▫️All About E...   \n",
       "4476       @NVIDIAGeForce @YEAH_Jul #GiftRTX more power   \n",
       "4485  \"Withdraw the amendment. Same dogs, same law. ...   \n",
       "\n",
       "                                      tweet_stage_final  NMF_TFIDF_Topic  \n",
       "4348  un biodivers confer guterr wef agenda klaussch...                0  \n",
       "4349  good morn natenerd never underestim power hope...                2  \n",
       "4350  happi tuesday fillionair amp browncoat amaz sh...                3  \n",
       "4424  sad terri hall self assur eye special storm co...                2  \n",
       "4436  hey elonmusk honest question actual get twitte...                4  \n",
       "4443  fool king kimdotcom whole stori would fit narr...                4  \n",
       "4467  christkind group maria chabo eve co xac p inst...                3  \n",
       "4468  christkind group maria chabo eve co qnthpekcj ...                3  \n",
       "4476                nvidiageforc yeah jul giftrtx power                3  \n",
       "4485  withdraw amend dog law anim abus sentient live...                3  "
      ]
     },
     "execution_count": 49,
     "metadata": {},
     "output_type": "execute_result"
    }
   ],
   "source": [
    "NMF_TFIDF_Topic = NMF_with_tfidf.transform(tf_idf_tweet)\n",
    "NMF_TFIDF_Topic[0].argmax()\n",
    "NMF_TFIDF_Topic.argmax(axis=1)\n",
    "df['NMF_TFIDF_Topic'] = NMF_TFIDF_Topic.argmax(axis=1)\n",
    "df[['tweet','tweet_stage_final','NMF_TFIDF_Topic']].tail(10)"
   ]
  },
  {
   "cell_type": "code",
   "execution_count": 50,
   "id": "f9fe2b84",
   "metadata": {},
   "outputs": [
    {
     "data": {
      "text/plain": [
       "NMF(n_components=10, random_state=1)"
      ]
     },
     "execution_count": 50,
     "metadata": {},
     "output_type": "execute_result"
    }
   ],
   "source": [
    "# parameterizing for pyLDAvis\n",
    "X = tf_idf_tweet\n",
    "vectorizer = tf_idf\n",
    "nmf = NMF(n_components=10, random_state=1)\n",
    "nmf.fit(X)"
   ]
  },
  {
   "cell_type": "code",
   "execution_count": 51,
   "id": "86cf9828",
   "metadata": {},
   "outputs": [],
   "source": [
    "# Create a visualization of the NMF results\n",
    "vis_data = pyLDAvis.sklearn.prepare(nmf, X, vectorizer)"
   ]
  },
  {
   "cell_type": "code",
   "execution_count": 52,
   "id": "d77050f8",
   "metadata": {},
   "outputs": [
    {
     "data": {
      "text/html": [
       "\n",
       "<link rel=\"stylesheet\" type=\"text/css\" href=\"https://cdn.jsdelivr.net/gh/bmabey/pyLDAvis@3.3.1/pyLDAvis/js/ldavis.v1.0.0.css\">\n",
       "\n",
       "\n",
       "<div id=\"ldavis_el968821490545617444437931208\"></div>\n",
       "<script type=\"text/javascript\">\n",
       "\n",
       "var ldavis_el968821490545617444437931208_data = {\"mdsDat\": {\"x\": [0.1638545367630759, 0.1236535526837808, 0.07653138689522632, 0.0950286511814343, 0.08380788876935337, 0.09278551262724154, 0.05059789488780996, -0.3891509893501148, -0.39029368621503746, 0.09318525175722873], \"y\": [-0.1369171384014606, -0.14254598496929252, 0.10305380069972912, 0.021837887789518822, -0.09456953585567875, -0.11581190864386579, 0.4180221028777784, -0.03454256725524135, -0.03289321234682459, 0.01436655610533743], \"topics\": [1, 2, 3, 4, 5, 6, 7, 8, 9, 10], \"cluster\": [1, 1, 1, 1, 1, 1, 1, 1, 1, 1], \"Freq\": [54.73047513194743, 8.809339667079492, 7.6997607696093855, 5.5186568041257855, 5.039340854035138, 4.222084343241413, 3.7357512110848234, 3.6082574045273574, 3.5902527768910097, 3.0460810374581664]}, \"tinfo\": {\"Term\": [\"njpw\", \"njwk njpwworld\", \"njwk\", \"njpwworld\", \"njpw njwk njpwworld\", \"njpw njwk\", \"castl\", \"christian\", \"nightcafestudio\", \"nightcaf\", \"digitalart\", \"aiart nightcaf digitalart\", \"nightcaf digitalart\", \"aiart nightcaf\", \"aiart\", \"christma\", \"etsi\", \"vintag\", \"youtub\", \"stream einschalten izzhbt\", \"stream einschalten\", \"einschalten izzhbt\", \"einschalten\", \"izzhbt\", \"jetzt auf\", \"jetzt\", \"auf\", \"von\", \"stream\", \"auf evergreen\", \"air arena\", \"air arena begin\", \"arena\", \"arena begin\", \"arena begin count\", \"begin count\", \"begin count song\", \"believ liar\", \"believ liar brexit\", \"break\", \"brexit\", \"brexit johnson\", \"brexit johnson farag\", \"count\", \"count song\", \"count song hairmet\", \"def\", \"def leppard\", \"def leppard madhous\", \"devil\", \"devil train\", \"devil train def\", \"ew\", \"farag\", \"fascinatorfun\", \"fascinatorfun believ\", \"fascinatorfun believ liar\", \"great stuff\", \"great stuff wick\", \"hairmet\", \"holiday\", \"new year\", \"thank\", \"happi holiday\", \"happi new\", \"happi new year\", \"end\", \"great\", \"support\", \"success\", \"year look\", \"year look forward\", \"christma happi\", \"merri christma happi\", \"wish merri\", \"wish merri christma\", \"year\", \"come end\", \"partner\", \"christma happi new\", \"exhibitor\", \"new year look\", \"wish everyon\", \"visitor\", \"friend\", \"happyholiday\", \"team\", \"remo\", \"famili\", \"highlight\", \"wish\", \"start\", \"merri\", \"merri christma\", \"new\", \"look forward\", \"christma\", \"look\", \"happi\", \"time\", \"forward\", \"merrychristma\", \"love\", \"everyon\", \"come\", \"amaz shine\", \"amaz shine star\", \"amp browncoat\", \"amp browncoat amaz\", \"amp browncoat heart\", \"amp browncoat today\", \"aprn\", \"aprn ritschi\", \"aprn ritschi kerstindref\", \"aprn ritschi xezebjn\", \"away like\", \"away like snow\", \"beam\", \"beam light\", \"beam light univers\", \"beauti beam\", \"beauti beam light\", \"beauti like\", \"beauti like enjoy\", \"bless\", \"bless surround\", \"bless surround merrychristma\", \"browncoat\", \"browncoat amaz\", \"browncoat amaz shine\", \"browncoat heart\", \"browncoat heart light\", \"browncoat today\", \"browncoat today look\", \"castl\", \"castl firefli\", \"castl firefli chrissychatt\", \"chrissychatt\", \"firefli\", \"firefli chrissychatt\", \"nathanfillion\", \"nathanfillion therooki\", \"nathanfillion therooki castl\", \"ritschi\", \"therooki\", \"therooki castl\", \"therooki castl firefli\", \"castl aprn\", \"castl aprn ritschi\", \"chrissychatt castl\", \"chrissychatt castl aprn\", \"firefli chrissychatt castl\", \"kerstindref\", \"ritschi kerstindref\", \"homenor\", \"kerstindref homenor\", \"ritschi kerstindref homenor\", \"mononenminna\", \"fillionair\", \"everyon nathanfillion\", \"everyon nathanfillion therooki\", \"happi\", \"abstract\", \"abstract test\", \"abstract test ver\", \"agrh\", \"aj\", \"aj kh\", \"artist evolut\", \"artist evolut nightcafestudio\", \"bgxotybzlt\", \"bgxotybzlt aiart\", \"bgxotybzlt aiart nightcaf\", \"bgxotybzlt aj\", \"bgxotybzlt aj kh\", \"bhwc\", \"bhwc pdcsm\", \"bhwc pdcsm aiart\", \"bhwc pdcsm kd\", \"blue nightcafestudio\", \"blue nightcafestudio jveu\", \"broken\", \"broken clock\", \"broken clock nightcafestudio\", \"cidhavktrc\", \"clock\", \"clock nightcafestudio\", \"clock nightcafestudio gxztkd\", \"collect memori\", \"collect memori nightcafestudio\", \"cosmic broken\", \"cosmic broken clock\", \"aiart nightcaf\", \"aiart nightcaf digitalart\", \"digitalart\", \"nightcaf\", \"nightcaf digitalart\", \"nightcafestudio\", \"aiart\", \"cszvikckkv\", \"hfrsmi\", \"dbkxngl\", \"tpm\", \"pj\", \"vwk\", \"vwk pj\", \"gwjmsx\", \"vx\", \"vx gwjmsx\", \"sr wbzmzg\", \"wbzmzg\", \"pdcsm\", \"ftrulc\", \"fy\", \"fy ftrulc\", \"phxd\", \"ucz\", \"ucz phxd\", \"jfvlhyx\", \"better world\", \"better world nightcafestudio\", \"digitalart vx\", \"digitalart vx gwjmsx\", \"gwjmsx aiart\", \"gwjmsx aiart nightcaf\", \"nightcaf digitalart vx\", \"nightcafestudio vx\", \"nightcafestudio vx gwjmsx\", \"step better\", \"step better world\", \"vx gwjmsx aiart\", \"world nightcafestudio\", \"world nightcafestudio vx\", \"step\", \"lwfgdvpx\", \"oomg\", \"adam\", \"adam stream\", \"adam stream einschalten\", \"alway love von\", \"anyth love\", \"anyth love von\", \"appli\", \"appli beeplist\", \"appli beeplist xuaamrdbni\", \"auf evergreen\", \"auf evergreen alway\", \"auf evergreen anyth\", \"auf evergreen everyth\", \"auf evergreen seen\", \"auf evergreen stay\", \"auf evergreen wanna\", \"background\", \"background shelflifeextens\", \"background shelflifeextens sfkntlq\", \"bavovna\", \"beepboop\", \"beeplist\", \"beeplist beepboop\", \"beeplist xuaamrdbni\", \"beeplist xuaamrdbni beeplist\", \"bryan\", \"bryan adam\", \"bryan adam stream\", \"clash\", \"clash stream\", \"einschalten\", \"einschalten izzhbt\", \"izzhbt\", \"stream einschalten\", \"stream einschalten izzhbt\", \"stream\", \"auf\", \"jetzt\", \"jetzt auf\", \"von\", \"evergreen\", \"jetzt auf evergreen\", \"houston\", \"whitney\", \"whitney houston\", \"love von\", \"einschalten izzhbt whitney\", \"houston stream\", \"houston stream einschalten\", \"izzhbt whitney\", \"izzhbt whitney houston\", \"love von whitney\", \"von whitney\", \"von whitney houston\", \"whitney houston stream\", \"real thing\", \"love\", \"attack\", \"attack lesson\", \"attack lesson war\", \"bring\", \"bring gun\", \"bring gun forward\", \"bten\", \"campaign southern\", \"campaign southern storm\", \"ccml\", \"establish\", \"establish posit\", \"establish posit lesson\", \"flashpoint\", \"flashpoint campaign\", \"flashpoint campaign southern\", \"forward lesson\", \"forward lesson war\", \"gun forward\", \"gun forward lesson\", \"hempvntucz\", \"hind\", \"hind hunt\", \"hind hunt lesson\", \"historygam\", \"historygam youtub\", \"historygam youtub hempvntucz\", \"historygam youtub pvltb\", \"historygam youtub tseu\", \"historygam youtub wsyd\", \"letsplay historygam\", \"letsplay historygam youtub\", \"lesson\", \"lesson war\", \"lesson war flashpoint\", \"multiplay\", \"multiplay letsplay\", \"multiplay letsplay historygam\", \"southern\", \"southern storm\", \"southern storm multiplay\", \"storm multiplay\", \"storm multiplay letsplay\", \"war flashpoint\", \"war flashpoint campaign\", \"storm\", \"campaign\", \"posit lesson\", \"letsplay\", \"war\", \"youtub\", \"bgob\", \"blockchain\", \"blockchain multichain\", \"blockchain multichain quainetwork\", \"cinema njpw\", \"cinema njpw njwk\", \"crm\", \"crm ugbmxf\", \"crm ugbmxf wfoa\", \"csdlawrf\", \"csdlawrf sn\", \"csdlawrf sn bgob\", \"dartsworldchampionship\", \"dartsworldchampionship lqdw\", \"dartsworldchampionship lqdw spxae\", \"finger\", \"finger suzukigun\", \"finger suzukigun szkg\", \"fszgyoxgox\", \"iizuka\", \"iizuka iron\", \"iizuka iron finger\", \"ingobern\", \"ingobern lij\", \"ingobern lij naito\", \"iron finger\", \"iron finger suzukigun\", \"king\", \"king dartsworldchampionship\", \"king dartsworldchampionship lqdw\", \"njpw\", \"njpw njwk\", \"njpw njwk njpwworld\", \"njpwworld\", \"njwk\", \"njwk njpwworld\", \"suzukigun\", \"let strong\", \"let strong njpw\", \"strong njpw\", \"strong njpw njwk\", \"king njpw\", \"king njpw njwk\", \"njpwworld ykmhhbcgab\", \"njwk njpwworld ykmhhbcgab\", \"ykmhhbcgab\", \"njpwworld fszgyoxgox\", \"njwk njpwworld fszgyoxgox\", \"majesti\", \"majesti njpw\", \"majesti njpw njwk\", \"njpwworld qfokm\", \"njwk njpwworld qfokm\", \"qfokm\", \"strong\", \"cinema\", \"time njpw\", \"time njpw njwk\", \"time\", \"ckpu\", \"ckpu eusk\", \"ckpu eusk etsi\", \"cm vintag\", \"cm vintag turkish\", \"cn\", \"cn jr\", \"cn jr etsi\", \"cover etsylov\", \"cover etsylov etsysal\", \"cqmg\", \"cqmg etsi\", \"cushion\", \"cushion cover\", \"cushion cover etsylov\", \"etsi\", \"etsi etsyfind\", \"etsi etsyfind festivetwitt\", \"etssel\", \"etssel ckpu\", \"etssel ckpu eusk\", \"etssel cqmg\", \"etssel cqmg etsi\", \"etssel pqjfuvvvi\", \"etssel pqjfuvvvi etsi\", \"etssel rjt\", \"etssel rjt cn\", \"etssel srzh\", \"etssel srzh zewkc\", \"etssel urqez\", \"vintag\", \"etsyfind\", \"etsyfind festivetwitt\", \"etsyfind festivetwitt share\", \"etsylov\", \"etsylov etsysal\", \"etsylov etsysal gift\", \"etsysal\", \"etsysal gift\", \"etsysal gift giftidea\", \"etsyshop\", \"etsyshop handcraft\", \"etsyshop handcraft vintag\", \"etsysoci\", \"etsysoci etsi\", \"etsysoci etsi etsyfind\", \"festivetwitt\", \"festivetwitt share\", \"festivetwitt share makeitmeaning\", \"christen\", \"christen evangelisch\", \"christen evangelisch katholisch\", \"christentum\", \"christentum christen\", \"christentum christen evangelisch\", \"christlichefrauen\", \"christlichefrauen mariachabo\", \"christlichefrauen mariachabo lijfx\", \"christlichefrauen mariachabo llax\", \"christlichefrauen mariachabo lsxwkriy\", \"christlichefrauen mariachabo norb\", \"christlichefrauen mariachabo nre\", \"christlichefrauen mariachabo tdnjbtcfk\", \"chritlicherglaub\", \"chritlicherglaub christlichefrauen\", \"chritlicherglaub christlichefrauen mariachabo\", \"da\", \"da fz\", \"evangelisch\", \"evangelisch katholisch\", \"evangelisch katholisch chritlicherglaub\", \"eve olgb xjek\", \"fz\", \"gebet\", \"gebet jesuschrist\", \"gebet jesuschrist jesusiloveyoud\", \"ijau\", \"jesu gebet\", \"jesu gebet jesuschrist\", \"jesuschrist jesusiloveyoud\", \"jesuschrist jesusiloveyoud christentum\", \"jesusiloveyoud\", \"jesusiloveyoud christentum\", \"jesusiloveyoud christentum christen\", \"jewelri jesu gebet\", \"katholisch\", \"katholisch chritlicherglaub\", \"katholisch chritlicherglaub christlichefrauen\", \"olgb xjek\", \"chabo eve olgb\", \"eve olgb\", \"chabo eve qnthpf\", \"christianwomen mariachabo hc\", \"christianwomen mariachabo jto\", \"christianwomen mariachabo mgadewcxgu\", \"christianwomen mariachabo nzfn\", \"christianwomen mariachabo sbuncbcqo\", \"christianwomen mariachabo xr\", \"christianwomen mariachabo yv\", \"dha\", \"dha insta\", \"dha insta allabouteveshop\", \"duyb\", \"enk\", \"eve qnthpf\", \"eve qnthpf dha\", \"hc\", \"hc mmft\", \"isah\", \"jto\", \"jto duyb\", \"mariachabo hc\", \"mariachabo hc mmft\", \"mariachabo jto\", \"mariachabo jto duyb\", \"mariachabo mgadewcxgu\", \"mariachabo nzfn\", \"mariachabo nzfn enk\", \"mariachabo sbuncbcqo\", \"mariachabo xr\", \"mariachabo xr vr\", \"christianwomen\", \"christianwomen mariachabo\", \"christ\", \"christ christian\", \"christ christian christianinspir\", \"christian christ\", \"christian christ christian\", \"christian christianinspir\", \"christian christianinspir christianwomen\", \"christianinspir\", \"christianinspir christianwomen\", \"christianinspir christianwomen mariachabo\", \"chritian\", \"chritian christian\", \"chritian christian christ\", \"jesu prayer\", \"jesu prayer jesuschrist\", \"jesuschrist jesusiloveyouen\", \"jesuschrist jesusiloveyouen chritian\", \"jesusiloveyouen\", \"jesusiloveyouen chritian\", \"jesusiloveyouen chritian christian\", \"jewelri jesu prayer\", \"prayer\", \"prayer jesuschrist\", \"prayer jesuschrist jesusiloveyouen\", \"christian\", \"mariachabo\", \"allabouteveshop\", \"allabouteveshop christian\", \"av\", \"av kwiggl\", \"av kwiggl foldingbik\", \"bike\", \"bike come\", \"bike come bunch\", \"bike karat\", \"bike karat style\", \"bikelif\", \"bikelif cycl\", \"bikelif cycl cyclinglif\", \"bunch nice\", \"bunch nice festiv\", \"colour\", \"colour ey\", \"colour ey vq\", \"colour fqi\", \"colour fqi uvvvjt\", \"come bunch\", \"come bunch nice\", \"cycl cyclinglif\", \"cycl cyclinglif sustain\", \"cyclinglif\", \"cyclinglif sustain\", \"cyclinglif sustain verkehrswend\", \"design innov\", \"design innov bikelif\", \"dvmgz\", \"ey\", \"ey vq\", \"kwiggl\", \"fold\", \"faltrad\", \"faltrad madeingermani\", \"faltrad madeingermani design\", \"foldingbik\", \"foldingbik velopli\", \"foldingbik velopli faltrad\", \"innov bikelif\", \"innov bikelif cycl\", \"kwiggl foldingbik\", \"kwiggl foldingbik velopli\", \"madeingermani\", \"madeingermani design\", \"madeingermani design innov\", \"sustain verkehrswend\", \"velopli\", \"velopli faltrad\"], \"Freq\": [5.0, 4.0, 4.0, 4.0, 4.0, 4.0, 4.0, 4.0, 4.0, 4.0, 4.0, 4.0, 4.0, 4.0, 4.0, 9.0, 2.0, 2.0, 3.0, 3.0, 3.0, 3.0, 3.0, 3.0, 3.0, 3.0, 3.0, 3.0, 2.0, 2.0, 0.04305279412531047, 0.04305279412531047, 0.04305279412531047, 0.04305279412531047, 0.04305279412531047, 0.04305279412531047, 0.04305279412531047, 0.011188188106244178, 0.011188188106244178, 0.32383587694618327, 0.011188188106244178, 0.011188188106244178, 0.011188188106244178, 0.04305279412531047, 0.04305279412531047, 0.04305279412531047, 0.04305279412531047, 0.04305279412531047, 0.04305279412531047, 0.04305279412531047, 0.04305279412531047, 0.04305279412531047, 1.054763046336298, 0.011188188106244178, 0.011188188106244178, 0.011188188106244178, 0.011188188106244178, 0.04305279412531047, 0.04305279412531047, 0.04305279412531047, 6.735921770451828, 5.709981858145382, 5.44870462029436, 4.937016978644348, 3.2096510161918403, 3.2096510161918403, 3.072326935783845, 2.7744961821500786, 2.6150282599915977, 2.425763252804495, 2.392540134575285, 2.392540134575285, 2.3405531531511565, 2.3405531531511565, 2.171155366020894, 2.171155366020894, 11.156141759952181, 1.8794141703761793, 2.0571480923534256, 1.7608620187073227, 1.7296140134840683, 1.709296315072663, 1.709296315072663, 1.7056405194090223, 1.6069372917542861, 1.5528901942028508, 1.546776555513798, 1.4670680634158406, 1.6976226792999698, 1.3321690858840276, 5.953801491650744, 2.104566856065487, 5.114436881364533, 4.950027264593795, 5.762840903414407, 2.9468011132996303, 8.444470259872213, 3.4007059012913587, 7.348291999780029, 3.972904836019825, 2.8148914677072354, 3.0845888383636577, 2.7070517551814004, 2.713129324162685, 2.256132658964999, 0.29252152900973605, 0.29252152900973605, 1.4691477151956744, 0.29252152900973605, 0.22132479577719866, 0.34464603052514564, 2.447464010084382, 2.350223521035713, 2.088362277029668, 0.22132479577719866, 0.22132479577719866, 0.22132479577719866, 0.29252152900973605, 0.29252152900973605, 0.29252152900973605, 0.29252152900973605, 0.29252152900973605, 0.34464603052514564, 0.34464603052514564, 0.22132479577719866, 0.22132479577719866, 0.22132479577719866, 1.4691477151956744, 0.29252152900973605, 0.29252152900973605, 0.22132479577719866, 0.22132479577719866, 0.34464603052514564, 0.34464603052514564, 4.894928020168764, 2.447464010084382, 2.447464010084382, 2.447464010084382, 2.447464010084382, 2.447464010084382, 2.447464010084382, 2.447464010084382, 2.447464010084382, 2.447464010084382, 2.447464010084382, 2.447464010084382, 2.447464010084382, 2.350223521035713, 2.350223521035713, 2.350223521035713, 2.350223521035713, 2.350223521035713, 2.1899254148587586, 2.1899254148587586, 2.088362277029668, 2.088362277029668, 2.088362277029668, 1.675047644638047, 1.4691477151956744, 1.5569674605842998, 1.5569674605842998, 1.4857440875861911, 0.23274074776876819, 0.23274074776876819, 0.23274074776876819, 0.3542595110472883, 0.3141418265806598, 0.3141418265806598, 0.23274074776876819, 0.23274074776876819, 0.6282836531613196, 0.3141418265806598, 0.3141418265806598, 0.3141418265806598, 0.3141418265806598, 0.5403683192226562, 0.5403683192226562, 0.2701841596113281, 0.2701841596113281, 0.24618539856436364, 0.24618539856436364, 0.21092021579633827, 0.21092021579633827, 0.21092021579633827, 0.27481495409630163, 0.21092021579633827, 0.21092021579633827, 0.21092021579633827, 0.3619743199094079, 0.3619743199094079, 0.21092021579633827, 0.21092021579633827, 4.359595752626976, 4.359595752626976, 4.359595752626976, 4.359595752626976, 4.359595752626976, 4.359595752626976, 4.3182965968554665, 0.7239486398188159, 0.7085190220945766, 0.6377597764954615, 0.6251480435659161, 0.6015532486882273, 0.6015532486882273, 0.6015532486882273, 1.3774616357643223, 1.3774616357643223, 1.3774616357643223, 0.5496299081926033, 0.5496299081926033, 0.5403683192226562, 0.5403683192226565, 0.5403683192226565, 0.5403683192226565, 0.5403683192226565, 0.5403683192226565, 0.5403683192226565, 0.5155640471388547, 0.6887308178821612, 0.6887308178821612, 0.6887308178821612, 0.6887308178821612, 0.6887308178821612, 0.6887308178821612, 0.6887308178821612, 0.6887308178821612, 0.6887308178821612, 0.6887308178821612, 0.6887308178821612, 0.6887308178821612, 0.6887308178821612, 0.6887308178821612, 0.638592092429288, 0.7510136545579394, 0.6404639055913772, 0.9403962917355285, 0.47019814586776426, 0.47019814586776426, 0.6126582339016728, 0.43013303350417836, 0.43013303350417836, 1.3896821041368368e-15, 1.3896821041368368e-15, 1.3896821041368368e-15, 2.9064041158532787, 0.6126582339016728, 0.43013303350417836, 0.8967260955000129, 0.30695232338929, 0.5909504577788536, 0.5412674494585819, 3.541365500318303e-15, 3.541365500318303e-15, 3.541365500318303e-15, 4.445005934379315e-16, 1.3896821041368368e-15, 2.7793642082736737e-15, 1.3896821041368368e-15, 1.3896821041368368e-15, 1.3896821041368368e-15, 0.9403962917355285, 0.9403962917355285, 0.47019814586776426, 1.1819009155577072, 0.5909504577788536, 3.034115812649423, 3.034115812649423, 3.034115812649423, 3.034115812649423, 3.034115812649423, 2.987608175935129, 3.0183517734944885, 3.0183517734944885, 3.0183517734944885, 3.0183517734944885, 2.9064041158532787, 2.9064041158532787, 2.162257570217136, 2.162257570217136, 2.162257570217136, 1.413223153245982, 1.081128785108568, 1.081128785108568, 1.081128785108568, 1.081128785108568, 1.081128785108568, 1.081128785108568, 1.081128785108568, 1.081128785108568, 1.081128785108568, 0.9738094445302962, 1.172050759091494, 0.5136268936809929, 0.5136268936809929, 0.5136268936809929, 0.5205437122283894, 0.5205437122283894, 0.5205437122283894, 0.5564633696659173, 2.681194086888364, 2.681194086888364, 0.5205437122283894, 0.6118114212102405, 0.6118114212102405, 0.6118114212102405, 2.681194086888364, 2.681194086888364, 2.681194086888364, 0.5205437122283894, 0.5205437122283894, 0.5205437122283894, 0.5205437122283894, 0.6118114212102405, 0.5564633696659173, 0.5564633696659173, 0.5564633696659173, 2.723850562435892, 2.723850562435892, 0.6118114212102405, 0.5205437122283894, 0.5564633696659173, 0.5136268936809929, 2.723850562435892, 2.723850562435892, 2.681194086888364, 2.681194086888364, 2.681194086888364, 2.681194086888364, 2.681194086888364, 2.681194086888364, 2.681194086888364, 2.681194086888364, 2.681194086888364, 2.681194086888364, 2.681194086888364, 2.681194086888364, 2.681194086888364, 2.6330857189239625, 2.6220228480199057, 0.6118114212102405, 2.6230246607177854, 2.577367562999138, 2.3067616716540438, 0.5241599522955852, 8.449982165286838e-19, 8.449982165286838e-19, 8.449982165286838e-19, 0.8273115497119305, 0.8273115497119305, 0.42933784974286554, 0.42933784974286554, 0.42933784974286554, 0.5241599522955852, 0.5241599522955852, 0.5241599522955852, 0.015653908743335918, 0.015653908743335918, 0.015653908743335918, 0.4562837701191348, 0.4562837701191348, 0.4562837701191348, 0.8273115497119305, 0.4562837701191348, 0.4562837701191348, 0.4562837701191348, 0.5220140644637679, 0.5220140644637679, 0.5220140644637679, 0.4562837701191348, 0.4562837701191348, 0.7722469204009412, 0.015653908743335918, 0.015653908743335918, 5.032563330338364, 4.772569046923714, 4.772569046923714, 4.772569046923714, 4.772569046923714, 4.772569046923714, 1.1173661788250255, 0.8687843681926767, 0.8687843681926767, 0.8687843681926767, 0.8687843681926767, 0.8347611877814702, 0.8347611877814702, 0.8347611877814702, 0.8347611877814702, 0.8347611877814702, 0.8273115497119305, 0.8273115497119305, 0.8171570499012738, 0.8171570499012738, 0.8171570499012738, 0.8171570499012738, 0.8171570499012738, 0.8171570499012738, 0.8206477394497581, 0.7828344135533337, 0.8041686948689442, 0.8041686948689442, 0.889194163082096, 0.2083481958645574, 0.2083481958645574, 0.2083481958645574, 1.4277529250992103, 1.4277529250992103, 0.1960328218541084, 0.1960328218541084, 0.1960328218541084, 1.4277529250992103, 1.4277529250992103, 0.22231467529561574, 0.22231467529561574, 1.4277529250992103, 1.4277529250992103, 1.4277529250992103, 2.8555058501984205, 1.4277529250992103, 1.4277529250992103, 1.4277529250992103, 0.2083481958645574, 0.2083481958645574, 0.22231467529561574, 0.22231467529561574, 0.22231467529561572, 0.22231467529561572, 0.1960328218541084, 0.1960328218541084, 0.20834819586455736, 0.20834819586455736, 0.20834819586455736, 2.8555058501984205, 1.4277529250992103, 1.4277529250992103, 1.4277529250992103, 1.4277529250992103, 1.4277529250992103, 1.4277529250992103, 1.4277529250992103, 1.4277529250992103, 1.4277529250992103, 1.4277529250992103, 1.4277529250992103, 1.4277529250992103, 1.4277529250992103, 1.4277529250992103, 1.4277529250992103, 1.4277529250992103, 1.4277529250992103, 1.4277529250992103, 1.1653667281759987, 1.1653667281759987, 1.1653667281759987, 1.1653667281759987, 1.1653667281759987, 1.1653667281759987, 1.2081001614013374, 1.2081001614013374, 0.21563810724074345, 0.1964067485891366, 0.22246561549584654, 0.21563810724074345, 0.19534088646093214, 0.2303008357471922, 1.1653667281759987, 1.1653667281759987, 1.1653667281759987, 0.1964067485891366, 0.1964067485891366, 1.1653667281759987, 1.1653667281759987, 1.1653667281759987, 0.5611093391886132, 0.1964067485891366, 1.1653667281759987, 1.1653667281759987, 1.1653667281759987, 0.19534088646093214, 1.1653667281759987, 1.1653667281759987, 1.1653667281759987, 1.1653667281759987, 1.1653667281759987, 1.1653667281759987, 1.1653667281759987, 1.1653667281759987, 1.1653667281759987, 1.1653667281759987, 1.1653667281759987, 0.5611093391886132, 1.154088632067906, 1.154088632067906, 0.8282868312261282, 0.1886926803618327, 0.18869268036183265, 0.20169804003899075, 0.1823414196727395, 0.195272240271435, 0.16289651106034758, 0.1823414196727395, 0.8282868312261282, 0.8282868312261282, 0.8282868312261282, 0.18869268036183265, 0.1823414196727395, 0.8282868312261282, 0.8282868312261282, 0.1886926803618327, 0.1886926803618327, 0.16289651106034758, 0.18869268036183265, 0.18869268036183265, 0.1886926803618327, 0.1886926803618327, 0.18869268036183265, 0.18869268036183265, 0.20169804003899075, 0.1823414196727395, 0.1823414196727395, 0.195272240271435, 0.16289651106034758, 0.16289651106034758, 1.2870568172928074, 1.2870568172928074, 1.2598008930648625, 1.2598008930648625, 1.2598008930648625, 1.2598008930648625, 1.2598008930648625, 1.2598008930648625, 1.2598008930648625, 1.2598008930648625, 1.2598008930648625, 1.2598008930648625, 1.2598008930648625, 1.2598008930648625, 1.2598008930648625, 1.2598008930648625, 1.2598008930648625, 1.2598008930648625, 1.2598008930648625, 1.2598008930648625, 1.2598008930648625, 1.2598008930648625, 1.2598008930648625, 1.2598008930648625, 1.2598008930648625, 1.2598008930648625, 3.215391624289102, 1.125954894018548, 1.1257558849469476, 1.1257558849469476, 0.8155558633660958, 0.8155558633660958, 0.8155558633660958, 0.7803773221046474, 0.2737783635633432, 0.2737783635633432, 0.3186686385257197, 0.3186686385257197, 1.025841682210231, 1.025841682210231, 1.025841682210231, 0.2737783635633432, 0.2737783635633432, 0.5475567271266863, 0.2737783635633432, 0.2737783635633432, 0.2737783635633432, 0.2737783635633432, 0.2737783635633432, 0.2737783635633432, 1.025841682210231, 1.025841682210231, 1.025841682210231, 1.025841682210231, 1.025841682210231, 1.025841682210231, 1.025841682210231, 0.3186686385257197, 1.025841682210231, 1.025841682210231, 1.7758499645248345, 1.064678587823741, 1.025841682210231, 1.025841682210231, 1.025841682210231, 1.025841682210231, 1.025841682210231, 1.025841682210231, 1.025841682210231, 1.025841682210231, 1.025841682210231, 1.025841682210231, 1.025841682210231, 1.025841682210231, 1.025841682210231, 1.025841682210231, 1.025841682210231, 1.025841682210231], \"Total\": [5.0, 4.0, 4.0, 4.0, 4.0, 4.0, 4.0, 4.0, 4.0, 4.0, 4.0, 4.0, 4.0, 4.0, 4.0, 9.0, 2.0, 2.0, 3.0, 3.0, 3.0, 3.0, 3.0, 3.0, 3.0, 3.0, 3.0, 3.0, 2.0, 2.0, 0.04305279412531047, 0.04305279412531047, 0.04305279412531047, 0.04305279412531047, 0.04305279412531047, 0.04305279412531047, 0.04305279412531047, 0.011188188106244178, 0.011188188106244178, 0.32383587694618327, 0.011188188106244178, 0.011188188106244178, 0.011188188106244178, 0.04305279412531047, 0.04305279412531047, 0.04305279412531047, 0.04305279412531047, 0.04305279412531047, 0.04305279412531047, 0.04305279412531047, 0.04305279412531047, 0.04305279412531047, 1.054763046336298, 0.011188188106244178, 0.011188188106244178, 0.011188188106244178, 0.011188188106244178, 0.04305279412531047, 0.04305279412531047, 0.04305279412531047, 6.735921770451828, 5.709981858145382, 5.450750641255954, 4.937016978644348, 3.2096510161918403, 3.2096510161918403, 3.072326935783845, 2.7748084640202917, 2.6155526666112836, 2.425763252804495, 2.392540134575285, 2.392540134575285, 2.3405531531511565, 2.3405531531511565, 2.171964303565435, 2.171964303565435, 11.3490215478155, 1.8794141703761793, 2.0600394857121995, 1.7608620187073227, 1.7296140134840683, 1.709296315072663, 1.709296315072663, 1.7056405194090223, 1.6069372917542861, 1.5528901942028508, 1.546776555513798, 1.4670680634158406, 1.7006456952573739, 1.3321690858840276, 6.073400985776035, 2.1170450045348153, 5.347813325222251, 5.187801444401128, 6.107431696415737, 3.0275182355563177, 9.613502200964735, 3.683370798237069, 8.83403608736622, 5.244889988410623, 3.365786926165325, 3.918779944962327, 4.04379145012074, 4.082084102243814, 2.677756109381677, 0.29252152900973605, 0.29252152900973605, 1.4691477151956744, 0.29252152900973605, 0.22132479577719866, 0.34464603052514564, 2.447464010084382, 2.350223521035713, 2.088362277029668, 0.22132479577719866, 0.22132479577719866, 0.22132479577719866, 0.29252152900973605, 0.29252152900973605, 0.29252152900973605, 0.29252152900973605, 0.29252152900973605, 0.34464603052514564, 0.34464603052514564, 0.22132479577719866, 0.22132479577719866, 0.22132479577719866, 1.4691477151956744, 0.29252152900973605, 0.29252152900973605, 0.22132479577719866, 0.22132479577719866, 0.34464603052514564, 0.34464603052514564, 4.894928020168764, 2.447464010084382, 2.447464010084382, 2.447464010084382, 2.447464010084382, 2.447464010084382, 2.447464010084382, 2.447464010084382, 2.447464010084382, 2.447464010084382, 2.447464010084382, 2.447464010084382, 2.447464010084382, 2.350223521035713, 2.350223521035713, 2.350223521035713, 2.350223521035713, 2.350223521035713, 2.1899254148587586, 2.1899254148587586, 2.088362277029668, 2.088362277029668, 2.088362277029668, 1.675047644638047, 1.4691477151956744, 1.5812561039358861, 1.5812561039358861, 8.83403608736622, 0.23274074776876819, 0.23274074776876819, 0.23274074776876819, 0.3542595110472883, 0.3141418265806598, 0.3141418265806598, 0.23274074776876819, 0.23274074776876819, 0.6282836531613196, 0.3141418265806598, 0.3141418265806598, 0.3141418265806598, 0.3141418265806598, 0.5403683192226562, 0.5403683192226562, 0.2701841596113281, 0.2701841596113281, 0.24618539856436364, 0.24618539856436364, 0.21092021579633827, 0.21092021579633827, 0.21092021579633827, 0.27481495409630163, 0.21092021579633827, 0.21092021579633827, 0.21092021579633827, 0.3619743199094079, 0.3619743199094079, 0.21092021579633827, 0.21092021579633827, 4.359595752626976, 4.359595752626976, 4.359595752626976, 4.359595752626976, 4.359595752626976, 4.359595752626976, 4.324706579035462, 0.7239486398188159, 0.7085190220945766, 0.6377597764954615, 0.6251480435659161, 0.6015532486882273, 0.6015532486882273, 0.6015532486882273, 1.3896803126497765, 1.3896803126497765, 1.3896803126497765, 0.5496299081926033, 0.5496299081926033, 0.5403683192226562, 0.5403683192226565, 0.5403683192226565, 0.5403683192226565, 0.5403683192226565, 0.5403683192226565, 0.5403683192226565, 0.5155640471388547, 0.6948401563248883, 0.6948401563248883, 0.6948401563248883, 0.6948401563248883, 0.6948401563248883, 0.6948401563248883, 0.6948401563248883, 0.6948401563248883, 0.6948401563248883, 0.6948401563248883, 0.6948401563248883, 0.6948401563248883, 0.6948401563248883, 0.6948401563248883, 0.6538187814168667, 1.4089473826957617, 0.8639637521994633, 0.9403962917355285, 0.47019814586776426, 0.47019814586776426, 0.6126582339016728, 0.43013303350417836, 0.43013303350417836, 1.3896821041368368e-15, 1.3896821041368368e-15, 1.3896821041368368e-15, 2.9064041158532787, 0.6126582339016728, 0.43013303350417836, 0.8967260955000129, 0.30695232338929, 0.5909504577788536, 0.5412674494585819, 3.541365500318303e-15, 3.541365500318303e-15, 3.541365500318303e-15, 4.445005934379315e-16, 1.3896821041368368e-15, 2.7793642082736737e-15, 1.3896821041368368e-15, 1.3896821041368368e-15, 1.3896821041368368e-15, 0.9403962917355285, 0.9403962917355285, 0.47019814586776426, 1.1819009155577072, 0.5909504577788536, 3.034115812649423, 3.034115812649423, 3.034115812649423, 3.034115812649423, 3.034115812649423, 2.987608175935129, 3.0187142920911825, 3.0187142920911825, 3.0187142920911825, 3.0187142920911825, 2.9064041158532787, 2.9064041158532787, 2.162257570217136, 2.162257570217136, 2.162257570217136, 1.413223153245982, 1.081128785108568, 1.081128785108568, 1.081128785108568, 1.081128785108568, 1.081128785108568, 1.081128785108568, 1.081128785108568, 1.081128785108568, 1.081128785108568, 0.9753672155488883, 4.04379145012074, 0.5136268936809929, 0.5136268936809929, 0.5136268936809929, 0.5205437122283894, 0.5205437122283894, 0.5205437122283894, 0.5564633696659173, 2.681194086888364, 2.681194086888364, 0.5205437122283894, 0.6118114212102405, 0.6118114212102405, 0.6118114212102405, 2.681194086888364, 2.681194086888364, 2.681194086888364, 0.5205437122283894, 0.5205437122283894, 0.5205437122283894, 0.5205437122283894, 0.6118114212102405, 0.5564633696659173, 0.5564633696659173, 0.5564633696659173, 2.723850562435892, 2.723850562435892, 0.6118114212102405, 0.5205437122283894, 0.5564633696659173, 0.5136268936809929, 2.723850562435892, 2.723850562435892, 2.681194086888364, 2.681194086888364, 2.681194086888364, 2.681194086888364, 2.681194086888364, 2.681194086888364, 2.681194086888364, 2.681194086888364, 2.681194086888364, 2.681194086888364, 2.681194086888364, 2.681194086888364, 2.681194086888364, 2.6330857189239625, 2.6229089717743777, 0.6118114212102405, 2.689908870904005, 2.71669169651342, 3.4217072015472145, 0.5241599522955852, 8.449982165286838e-19, 8.449982165286838e-19, 8.449982165286838e-19, 0.8273115497119305, 0.8273115497119305, 0.42933784974286554, 0.42933784974286554, 0.42933784974286554, 0.5241599522955852, 0.5241599522955852, 0.5241599522955852, 0.015653908743335918, 0.015653908743335918, 0.015653908743335918, 0.4562837701191348, 0.4562837701191348, 0.4562837701191348, 0.8273115497119305, 0.4562837701191348, 0.4562837701191348, 0.4562837701191348, 0.5220140644637679, 0.5220140644637679, 0.5220140644637679, 0.4562837701191348, 0.4562837701191348, 0.7722469204009412, 0.015653908743335918, 0.015653908743335918, 5.032563330338364, 4.772569046923714, 4.772569046923714, 4.772569046923714, 4.772569046923714, 4.772569046923714, 1.1197604876169014, 0.8689721440142014, 0.8689721440142014, 0.8689721440142014, 0.8689721440142014, 0.8347611877814702, 0.8347611877814702, 0.8347611877814702, 0.8347611877814702, 0.8347611877814702, 0.8273115497119305, 0.8273115497119305, 0.8171570499012738, 0.8171570499012738, 0.8171570499012738, 0.8171570499012738, 0.8171570499012738, 0.8171570499012738, 0.831968562404166, 0.7941229122753661, 0.8220210449282954, 0.8220210449282954, 5.244889988410623, 0.2083481958645574, 0.2083481958645574, 0.2083481958645574, 1.4277529250992103, 1.4277529250992103, 0.1960328218541084, 0.1960328218541084, 0.1960328218541084, 1.4277529250992103, 1.4277529250992103, 0.22231467529561574, 0.22231467529561574, 1.4277529250992103, 1.4277529250992103, 1.4277529250992103, 2.8555058501984205, 1.4277529250992103, 1.4277529250992103, 1.4277529250992103, 0.2083481958645574, 0.2083481958645574, 0.22231467529561574, 0.22231467529561574, 0.22231467529561572, 0.22231467529561572, 0.1960328218541084, 0.1960328218541084, 0.20834819586455736, 0.20834819586455736, 0.20834819586455736, 2.8555058501984205, 1.4277529250992103, 1.4277529250992103, 1.4277529250992103, 1.4277529250992103, 1.4277529250992103, 1.4277529250992103, 1.4277529250992103, 1.4277529250992103, 1.4277529250992103, 1.4277529250992103, 1.4277529250992103, 1.4277529250992103, 1.4277529250992103, 1.4277529250992103, 1.4277529250992103, 1.4277529250992103, 1.4277529250992103, 1.4277529250992103, 1.1653667281759987, 1.1653667281759987, 1.1653667281759987, 1.1653667281759987, 1.1653667281759987, 1.1653667281759987, 1.2081001614013374, 1.2081001614013374, 0.21563810724074345, 0.1964067485891366, 0.22246561549584654, 0.21563810724074345, 0.19534088646093214, 0.2303008357471922, 1.1653667281759987, 1.1653667281759987, 1.1653667281759987, 0.1964067485891366, 0.1964067485891366, 1.1653667281759987, 1.1653667281759987, 1.1653667281759987, 0.5611093391886132, 0.1964067485891366, 1.1653667281759987, 1.1653667281759987, 1.1653667281759987, 0.19534088646093214, 1.1653667281759987, 1.1653667281759987, 1.1653667281759987, 1.1653667281759987, 1.1653667281759987, 1.1653667281759987, 1.1653667281759987, 1.1653667281759987, 1.1653667281759987, 1.1653667281759987, 1.1653667281759987, 0.5611093391886132, 1.163349589744146, 1.163349589744146, 0.8282868312261282, 0.1886926803618327, 0.18869268036183265, 0.20169804003899075, 0.1823414196727395, 0.195272240271435, 0.16289651106034758, 0.1823414196727395, 0.8282868312261282, 0.8282868312261282, 0.8282868312261282, 0.18869268036183265, 0.1823414196727395, 0.8282868312261282, 0.8282868312261282, 0.1886926803618327, 0.1886926803618327, 0.16289651106034758, 0.18869268036183265, 0.18869268036183265, 0.1886926803618327, 0.1886926803618327, 0.18869268036183265, 0.18869268036183265, 0.20169804003899075, 0.1823414196727395, 0.1823414196727395, 0.195272240271435, 0.16289651106034758, 0.16289651106034758, 1.2870568172928074, 1.2870568172928074, 1.2598008930648625, 1.2598008930648625, 1.2598008930648625, 1.2598008930648625, 1.2598008930648625, 1.2598008930648625, 1.2598008930648625, 1.2598008930648625, 1.2598008930648625, 1.2598008930648625, 1.2598008930648625, 1.2598008930648625, 1.2598008930648625, 1.2598008930648625, 1.2598008930648625, 1.2598008930648625, 1.2598008930648625, 1.2598008930648625, 1.2598008930648625, 1.2598008930648625, 1.2598008930648625, 1.2598008930648625, 1.2598008930648625, 1.2598008930648625, 4.2496300700762, 2.134675308241628, 2.2092930011385907, 2.2092930011385907, 0.8155558633660958, 0.8155558633660958, 0.8155558633660958, 0.7803773221046474, 0.2737783635633432, 0.2737783635633432, 0.3186686385257197, 0.3186686385257197, 1.025841682210231, 1.025841682210231, 1.025841682210231, 0.2737783635633432, 0.2737783635633432, 0.5475567271266863, 0.2737783635633432, 0.2737783635633432, 0.2737783635633432, 0.2737783635633432, 0.2737783635633432, 0.2737783635633432, 1.025841682210231, 1.025841682210231, 1.025841682210231, 1.025841682210231, 1.025841682210231, 1.025841682210231, 1.025841682210231, 0.3186686385257197, 1.025841682210231, 1.025841682210231, 1.7758499645248345, 1.064678587823741, 1.025841682210231, 1.025841682210231, 1.025841682210231, 1.025841682210231, 1.025841682210231, 1.025841682210231, 1.025841682210231, 1.025841682210231, 1.025841682210231, 1.025841682210231, 1.025841682210231, 1.025841682210231, 1.025841682210231, 1.025841682210231, 1.025841682210231, 1.025841682210231], \"Category\": [\"Default\", \"Default\", \"Default\", \"Default\", \"Default\", \"Default\", \"Default\", \"Default\", \"Default\", \"Default\", \"Default\", \"Default\", \"Default\", \"Default\", \"Default\", \"Default\", \"Default\", \"Default\", \"Default\", \"Default\", \"Default\", \"Default\", \"Default\", \"Default\", \"Default\", \"Default\", \"Default\", \"Default\", \"Default\", \"Default\", \"Topic1\", \"Topic1\", \"Topic1\", \"Topic1\", \"Topic1\", \"Topic1\", \"Topic1\", \"Topic1\", \"Topic1\", \"Topic1\", \"Topic1\", \"Topic1\", \"Topic1\", \"Topic1\", \"Topic1\", \"Topic1\", \"Topic1\", \"Topic1\", \"Topic1\", \"Topic1\", \"Topic1\", \"Topic1\", \"Topic1\", \"Topic1\", \"Topic1\", \"Topic1\", \"Topic1\", \"Topic1\", \"Topic1\", \"Topic1\", \"Topic1\", \"Topic1\", \"Topic1\", \"Topic1\", \"Topic1\", \"Topic1\", \"Topic1\", \"Topic1\", \"Topic1\", \"Topic1\", \"Topic1\", \"Topic1\", \"Topic1\", \"Topic1\", \"Topic1\", \"Topic1\", \"Topic1\", \"Topic1\", \"Topic1\", \"Topic1\", \"Topic1\", \"Topic1\", \"Topic1\", \"Topic1\", \"Topic1\", \"Topic1\", \"Topic1\", \"Topic1\", \"Topic1\", \"Topic1\", \"Topic1\", \"Topic1\", \"Topic1\", \"Topic1\", \"Topic1\", \"Topic1\", \"Topic1\", \"Topic1\", \"Topic1\", \"Topic1\", \"Topic1\", \"Topic1\", \"Topic1\", \"Topic1\", \"Topic1\", \"Topic2\", \"Topic2\", \"Topic2\", \"Topic2\", \"Topic2\", \"Topic2\", \"Topic2\", \"Topic2\", \"Topic2\", \"Topic2\", \"Topic2\", \"Topic2\", \"Topic2\", \"Topic2\", \"Topic2\", \"Topic2\", \"Topic2\", \"Topic2\", \"Topic2\", \"Topic2\", \"Topic2\", \"Topic2\", \"Topic2\", \"Topic2\", \"Topic2\", \"Topic2\", \"Topic2\", \"Topic2\", \"Topic2\", \"Topic2\", \"Topic2\", \"Topic2\", \"Topic2\", \"Topic2\", \"Topic2\", \"Topic2\", \"Topic2\", \"Topic2\", \"Topic2\", \"Topic2\", \"Topic2\", \"Topic2\", \"Topic2\", \"Topic2\", \"Topic2\", \"Topic2\", \"Topic2\", \"Topic2\", \"Topic2\", \"Topic2\", \"Topic2\", \"Topic2\", \"Topic2\", \"Topic2\", \"Topic2\", \"Topic2\", \"Topic2\", \"Topic3\", \"Topic3\", \"Topic3\", \"Topic3\", \"Topic3\", \"Topic3\", \"Topic3\", \"Topic3\", \"Topic3\", \"Topic3\", \"Topic3\", \"Topic3\", \"Topic3\", \"Topic3\", \"Topic3\", \"Topic3\", \"Topic3\", \"Topic3\", \"Topic3\", \"Topic3\", \"Topic3\", \"Topic3\", \"Topic3\", \"Topic3\", \"Topic3\", \"Topic3\", \"Topic3\", \"Topic3\", \"Topic3\", \"Topic3\", \"Topic3\", \"Topic3\", \"Topic3\", \"Topic3\", \"Topic3\", \"Topic3\", \"Topic3\", \"Topic3\", \"Topic3\", \"Topic3\", \"Topic3\", \"Topic3\", \"Topic3\", \"Topic3\", \"Topic3\", \"Topic3\", \"Topic3\", \"Topic3\", \"Topic3\", \"Topic3\", \"Topic3\", \"Topic3\", \"Topic3\", \"Topic3\", \"Topic3\", \"Topic3\", \"Topic3\", \"Topic3\", \"Topic3\", \"Topic3\", \"Topic3\", \"Topic3\", \"Topic3\", \"Topic3\", \"Topic3\", \"Topic3\", \"Topic3\", \"Topic3\", \"Topic3\", \"Topic3\", \"Topic3\", \"Topic3\", \"Topic3\", \"Topic3\", \"Topic4\", \"Topic4\", \"Topic4\", \"Topic4\", \"Topic4\", \"Topic4\", \"Topic4\", \"Topic4\", \"Topic4\", \"Topic4\", \"Topic4\", \"Topic4\", \"Topic4\", \"Topic4\", \"Topic4\", \"Topic4\", \"Topic4\", \"Topic4\", \"Topic4\", \"Topic4\", \"Topic4\", \"Topic4\", \"Topic4\", \"Topic4\", \"Topic4\", \"Topic4\", \"Topic4\", \"Topic4\", \"Topic4\", \"Topic4\", \"Topic4\", \"Topic4\", \"Topic4\", \"Topic4\", \"Topic4\", \"Topic4\", \"Topic4\", \"Topic4\", \"Topic4\", \"Topic4\", \"Topic4\", \"Topic4\", \"Topic4\", \"Topic4\", \"Topic4\", \"Topic4\", \"Topic4\", \"Topic4\", \"Topic4\", \"Topic4\", \"Topic4\", \"Topic4\", \"Topic4\", \"Topic4\", \"Topic4\", \"Topic4\", \"Topic4\", \"Topic5\", \"Topic5\", \"Topic5\", \"Topic5\", \"Topic5\", \"Topic5\", \"Topic5\", \"Topic5\", \"Topic5\", \"Topic5\", \"Topic5\", \"Topic5\", \"Topic5\", \"Topic5\", \"Topic5\", \"Topic5\", \"Topic5\", \"Topic5\", \"Topic5\", \"Topic5\", \"Topic5\", \"Topic5\", \"Topic5\", \"Topic5\", \"Topic5\", \"Topic5\", \"Topic5\", \"Topic5\", \"Topic5\", \"Topic5\", \"Topic5\", \"Topic5\", \"Topic5\", \"Topic5\", \"Topic5\", \"Topic5\", \"Topic5\", \"Topic5\", \"Topic5\", \"Topic5\", \"Topic5\", \"Topic5\", \"Topic5\", \"Topic5\", \"Topic5\", \"Topic5\", \"Topic5\", \"Topic5\", \"Topic5\", \"Topic5\", \"Topic5\", \"Topic6\", \"Topic6\", \"Topic6\", \"Topic6\", \"Topic6\", \"Topic6\", \"Topic6\", \"Topic6\", \"Topic6\", \"Topic6\", \"Topic6\", \"Topic6\", \"Topic6\", \"Topic6\", \"Topic6\", \"Topic6\", \"Topic6\", \"Topic6\", \"Topic6\", \"Topic6\", \"Topic6\", \"Topic6\", \"Topic6\", \"Topic6\", \"Topic6\", \"Topic6\", \"Topic6\", \"Topic6\", \"Topic6\", \"Topic6\", \"Topic6\", \"Topic6\", \"Topic6\", \"Topic6\", \"Topic6\", \"Topic6\", \"Topic6\", \"Topic6\", \"Topic6\", \"Topic6\", \"Topic6\", \"Topic6\", \"Topic6\", \"Topic6\", \"Topic6\", \"Topic6\", \"Topic6\", \"Topic6\", \"Topic6\", \"Topic6\", \"Topic6\", \"Topic6\", \"Topic6\", \"Topic6\", \"Topic6\", \"Topic6\", \"Topic6\", \"Topic6\", \"Topic6\", \"Topic7\", \"Topic7\", \"Topic7\", \"Topic7\", \"Topic7\", \"Topic7\", \"Topic7\", \"Topic7\", \"Topic7\", \"Topic7\", \"Topic7\", \"Topic7\", \"Topic7\", \"Topic7\", \"Topic7\", \"Topic7\", \"Topic7\", \"Topic7\", \"Topic7\", \"Topic7\", \"Topic7\", \"Topic7\", \"Topic7\", \"Topic7\", \"Topic7\", \"Topic7\", \"Topic7\", \"Topic7\", \"Topic7\", \"Topic7\", \"Topic7\", \"Topic7\", \"Topic7\", \"Topic7\", \"Topic7\", \"Topic7\", \"Topic7\", \"Topic7\", \"Topic7\", \"Topic7\", \"Topic7\", \"Topic7\", \"Topic7\", \"Topic7\", \"Topic7\", \"Topic7\", \"Topic7\", \"Topic7\", \"Topic7\", \"Topic8\", \"Topic8\", \"Topic8\", \"Topic8\", \"Topic8\", \"Topic8\", \"Topic8\", \"Topic8\", \"Topic8\", \"Topic8\", \"Topic8\", \"Topic8\", \"Topic8\", \"Topic8\", \"Topic8\", \"Topic8\", \"Topic8\", \"Topic8\", \"Topic8\", \"Topic8\", \"Topic8\", \"Topic8\", \"Topic8\", \"Topic8\", \"Topic8\", \"Topic8\", \"Topic8\", \"Topic8\", \"Topic8\", \"Topic8\", \"Topic8\", \"Topic8\", \"Topic8\", \"Topic8\", \"Topic8\", \"Topic8\", \"Topic8\", \"Topic8\", \"Topic8\", \"Topic8\", \"Topic8\", \"Topic8\", \"Topic9\", \"Topic9\", \"Topic9\", \"Topic9\", \"Topic9\", \"Topic9\", \"Topic9\", \"Topic9\", \"Topic9\", \"Topic9\", \"Topic9\", \"Topic9\", \"Topic9\", \"Topic9\", \"Topic9\", \"Topic9\", \"Topic9\", \"Topic9\", \"Topic9\", \"Topic9\", \"Topic9\", \"Topic9\", \"Topic9\", \"Topic9\", \"Topic9\", \"Topic9\", \"Topic9\", \"Topic9\", \"Topic9\", \"Topic9\", \"Topic9\", \"Topic9\", \"Topic9\", \"Topic9\", \"Topic9\", \"Topic9\", \"Topic9\", \"Topic9\", \"Topic9\", \"Topic9\", \"Topic9\", \"Topic9\", \"Topic9\", \"Topic9\", \"Topic9\", \"Topic9\", \"Topic9\", \"Topic9\", \"Topic9\", \"Topic9\", \"Topic9\", \"Topic9\", \"Topic9\", \"Topic9\", \"Topic9\", \"Topic9\", \"Topic9\", \"Topic9\", \"Topic9\", \"Topic9\", \"Topic10\", \"Topic10\", \"Topic10\", \"Topic10\", \"Topic10\", \"Topic10\", \"Topic10\", \"Topic10\", \"Topic10\", \"Topic10\", \"Topic10\", \"Topic10\", \"Topic10\", \"Topic10\", \"Topic10\", \"Topic10\", \"Topic10\", \"Topic10\", \"Topic10\", \"Topic10\", \"Topic10\", \"Topic10\", \"Topic10\", \"Topic10\", \"Topic10\", \"Topic10\", \"Topic10\", \"Topic10\", \"Topic10\", \"Topic10\", \"Topic10\", \"Topic10\", \"Topic10\", \"Topic10\", \"Topic10\", \"Topic10\", \"Topic10\", \"Topic10\", \"Topic10\", \"Topic10\", \"Topic10\", \"Topic10\", \"Topic10\", \"Topic10\", \"Topic10\", \"Topic10\", \"Topic10\", \"Topic10\"], \"logprob\": [30.0, 29.0, 28.0, 27.0, 26.0, 25.0, 24.0, 23.0, 22.0, 21.0, 20.0, 19.0, 18.0, 17.0, 16.0, 15.0, 14.0, 13.0, 12.0, 11.0, 10.0, 9.0, 8.0, 7.0, 6.0, 5.0, 4.0, 3.0, 2.0, 1.0, -10.4202, -10.4202, -10.4202, -10.4202, -10.4202, -10.4202, -10.4202, -11.7678, -11.7678, -8.4024, -11.7678, -11.7678, -11.7678, -10.4202, -10.4202, -10.4202, -10.4202, -10.4202, -10.4202, -10.4202, -10.4202, -10.4202, -7.2215, -11.7678, -11.7678, -11.7678, -11.7678, -10.4202, -10.4202, -10.4202, -5.3674, -5.5326, -5.5795, -5.6781, -6.1087, -6.1087, -6.1524, -6.2544, -6.3136, -6.3887, -6.4025, -6.4025, -6.4245, -6.4245, -6.4996, -6.4996, -4.8629, -6.6439, -6.5535, -6.7091, -6.727, -6.7388, -6.7388, -6.7409, -6.8005, -6.8347, -6.8387, -6.8916, -6.7456, -6.9881, -5.4908, -6.5308, -5.6428, -5.6755, -5.5234, -6.1941, -5.1413, -6.0509, -5.2804, -5.8954, -6.2399, -6.1484, -6.279, -6.2768, -6.4612, -6.6775, -6.6775, -5.0636, -6.6775, -6.9564, -6.5135, -4.5532, -4.5937, -4.7119, -6.9564, -6.9564, -6.9564, -6.6775, -6.6775, -6.6775, -6.6775, -6.6775, -6.5135, -6.5135, -6.9564, -6.9564, -6.9564, -5.0636, -6.6775, -6.6775, -6.9564, -6.9564, -6.5135, -6.5135, -3.8601, -4.5532, -4.5532, -4.5532, -4.5532, -4.5532, -4.5532, -4.5532, -4.5532, -4.5532, -4.5532, -4.5532, -4.5532, -4.5937, -4.5937, -4.5937, -4.5937, -4.5937, -4.6644, -4.6644, -4.7119, -4.7119, -4.7119, -4.9324, -5.0636, -5.0055, -5.0055, -5.0523, -6.7715, -6.7715, -6.7715, -6.3514, -6.4715, -6.4715, -6.7715, -6.7715, -5.7784, -6.4715, -6.4715, -6.4715, -6.4715, -5.9291, -5.9291, -6.6223, -6.6223, -6.7153, -6.7153, -6.8699, -6.8699, -6.8699, -6.6053, -6.8699, -6.8699, -6.8699, -6.3298, -6.3298, -6.8699, -6.8699, -3.8413, -3.8413, -3.8413, -3.8413, -3.8413, -3.8413, -3.8508, -5.6367, -5.6582, -5.7634, -5.7834, -5.8219, -5.8219, -5.8219, -4.9934, -4.9934, -4.9934, -5.9121, -5.9121, -5.9291, -5.9291, -5.9291, -5.9291, -5.9291, -5.9291, -5.9291, -5.9761, -5.6865, -5.6865, -5.6865, -5.6865, -5.6865, -5.6865, -5.6865, -5.6865, -5.6865, -5.6865, -5.6865, -5.6865, -5.6865, -5.6865, -5.7621, -5.6, -5.7592, -5.042, -5.7352, -5.7352, -5.4705, -5.8242, -5.8242, -39.1903, -39.1903, -39.1903, -3.9137, -5.4705, -5.8242, -5.0896, -6.1616, -5.5066, -5.5944, -38.2548, -38.2548, -38.2548, -40.3302, -39.1903, -38.4971, -39.1903, -39.1903, -39.1903, -5.042, -5.042, -5.7352, -4.8135, -5.5066, -3.8707, -3.8707, -3.8707, -3.8707, -3.8707, -3.8861, -3.8759, -3.8759, -3.8759, -3.8759, -3.9137, -3.9137, -4.2094, -4.2094, -4.2094, -4.6347, -4.9026, -4.9026, -4.9026, -4.9026, -4.9026, -4.9026, -4.9026, -4.9026, -4.9026, -5.0071, -4.8218, -5.556, -5.556, -5.556, -5.5426, -5.5426, -5.5426, -5.4759, -3.9035, -3.9035, -5.5426, -5.381, -5.381, -5.381, -3.9035, -3.9035, -3.9035, -5.5426, -5.5426, -5.5426, -5.5426, -5.381, -5.4759, -5.4759, -5.4759, -3.8877, -3.8877, -5.381, -5.5426, -5.4759, -5.556, -3.8877, -3.8877, -3.9035, -3.9035, -3.9035, -3.9035, -3.9035, -3.9035, -3.9035, -3.9035, -3.9035, -3.9035, -3.9035, -3.9035, -3.9035, -3.9216, -3.9258, -5.381, -3.9254, -3.9429, -4.0539, -5.3587, -46.3277, -46.3277, -46.3277, -4.9023, -4.9023, -5.5583, -5.5583, -5.5583, -5.3587, -5.3587, -5.3587, -8.8698, -8.8698, -8.8698, -5.4974, -5.4974, -5.4974, -4.9023, -5.4974, -5.4974, -5.4974, -5.3628, -5.3628, -5.3628, -5.4974, -5.4974, -4.9712, -8.8698, -8.8698, -3.0968, -3.1499, -3.1499, -3.1499, -3.1499, -3.1499, -4.6018, -4.8534, -4.8534, -4.8534, -4.8534, -4.8934, -4.8934, -4.8934, -4.8934, -4.8934, -4.9023, -4.9023, -4.9147, -4.9147, -4.9147, -4.9147, -4.9147, -4.9147, -4.9104, -4.9576, -4.9307, -4.9307, -4.8302, -6.1589, -6.1589, -6.1589, -4.2343, -4.2343, -6.2199, -6.2199, -6.2199, -4.2343, -4.2343, -6.0941, -6.0941, -4.2343, -4.2343, -4.2343, -3.5411, -4.2343, -4.2343, -4.2343, -6.1589, -6.1589, -6.0941, -6.0941, -6.0941, -6.0941, -6.2199, -6.2199, -6.1589, -6.1589, -6.1589, -3.5411, -4.2343, -4.2343, -4.2343, -4.2343, -4.2343, -4.2343, -4.2343, -4.2343, -4.2343, -4.2343, -4.2343, -4.2343, -4.2343, -4.2343, -4.2343, -4.2343, -4.2343, -4.2343, -4.4026, -4.4026, -4.4026, -4.4026, -4.4026, -4.4026, -4.3666, -4.3666, -6.0898, -6.1832, -6.0586, -6.0898, -6.1887, -6.024, -4.4026, -4.4026, -4.4026, -6.1832, -6.1832, -4.4026, -4.4026, -4.4026, -5.1335, -6.1832, -4.4026, -4.4026, -4.4026, -6.1887, -4.4026, -4.4026, -4.4026, -4.4026, -4.4026, -4.4026, -4.4026, -4.4026, -4.4026, -4.4026, -4.4026, -5.1335, -4.4124, -4.4124, -4.7391, -6.2183, -6.2183, -6.1516, -6.2525, -6.184, -6.3653, -6.2525, -4.7391, -4.7391, -4.7391, -6.2183, -6.2525, -4.7391, -4.7391, -6.2183, -6.2183, -6.3653, -6.2183, -6.2183, -6.2183, -6.2183, -6.2183, -6.2183, -6.1516, -6.2525, -6.2525, -6.184, -6.3653, -6.3653, -4.2983, -4.2983, -4.3197, -4.3197, -4.3197, -4.3197, -4.3197, -4.3197, -4.3197, -4.3197, -4.3197, -4.3197, -4.3197, -4.3197, -4.3197, -4.3197, -4.3197, -4.3197, -4.3197, -4.3197, -4.3197, -4.3197, -4.3197, -4.3197, -4.3197, -4.3197, -3.3827, -4.432, -4.4322, -4.4322, -4.5902, -4.5902, -4.5902, -4.6343, -5.6817, -5.6817, -5.5299, -5.5299, -4.3608, -4.3608, -4.3608, -5.6817, -5.6817, -4.9886, -5.6817, -5.6817, -5.6817, -5.6817, -5.6817, -5.6817, -4.3608, -4.3608, -4.3608, -4.3608, -4.3608, -4.3608, -4.3608, -5.5299, -4.3608, -4.3608, -3.812, -4.3236, -4.3608, -4.3608, -4.3608, -4.3608, -4.3608, -4.3608, -4.3608, -4.3608, -4.3608, -4.3608, -4.3608, -4.3608, -4.3608, -4.3608, -4.3608, -4.3608], \"loglift\": [30.0, 29.0, 28.0, 27.0, 26.0, 25.0, 24.0, 23.0, 22.0, 21.0, 20.0, 19.0, 18.0, 17.0, 16.0, 15.0, 14.0, 13.0, 12.0, 11.0, 10.0, 9.0, 8.0, 7.0, 6.0, 5.0, 4.0, 3.0, 2.0, 1.0, 0.6027, 0.6027, 0.6027, 0.6027, 0.6027, 0.6027, 0.6027, 0.6027, 0.6027, 0.6027, 0.6027, 0.6027, 0.6027, 0.6027, 0.6027, 0.6027, 0.6027, 0.6027, 0.6027, 0.6027, 0.6027, 0.6027, 0.6027, 0.6027, 0.6027, 0.6027, 0.6027, 0.6027, 0.6027, 0.6027, 0.6027, 0.6027, 0.6024, 0.6027, 0.6027, 0.6027, 0.6027, 0.6026, 0.6025, 0.6027, 0.6027, 0.6027, 0.6027, 0.6027, 0.6024, 0.6024, 0.5856, 0.6027, 0.6013, 0.6027, 0.6027, 0.6027, 0.6027, 0.6027, 0.6027, 0.6027, 0.6027, 0.6027, 0.601, 0.6027, 0.5829, 0.5968, 0.5581, 0.5558, 0.5447, 0.5757, 0.4731, 0.5229, 0.4186, 0.325, 0.424, 0.3634, 0.2014, 0.1942, 0.4314, 2.4294, 2.4294, 2.4294, 2.4294, 2.4294, 2.4294, 2.4294, 2.4294, 2.4294, 2.4294, 2.4294, 2.4294, 2.4294, 2.4294, 2.4294, 2.4294, 2.4294, 2.4294, 2.4294, 2.4294, 2.4294, 2.4294, 2.4294, 2.4294, 2.4294, 2.4294, 2.4294, 2.4294, 2.4294, 2.4294, 2.4294, 2.4294, 2.4294, 2.4294, 2.4294, 2.4294, 2.4294, 2.4294, 2.4294, 2.4294, 2.4294, 2.4294, 2.4294, 2.4294, 2.4294, 2.4294, 2.4294, 2.4294, 2.4294, 2.4294, 2.4294, 2.4294, 2.4294, 2.4294, 2.4139, 2.4139, 0.6467, 2.564, 2.564, 2.564, 2.564, 2.564, 2.564, 2.564, 2.564, 2.564, 2.564, 2.564, 2.564, 2.564, 2.564, 2.564, 2.564, 2.564, 2.564, 2.564, 2.564, 2.564, 2.564, 2.564, 2.564, 2.564, 2.564, 2.564, 2.564, 2.564, 2.564, 2.564, 2.564, 2.564, 2.564, 2.564, 2.564, 2.5625, 2.564, 2.564, 2.564, 2.564, 2.564, 2.564, 2.564, 2.5551, 2.5551, 2.5551, 2.564, 2.564, 2.564, 2.564, 2.564, 2.564, 2.564, 2.564, 2.564, 2.564, 2.5551, 2.5551, 2.5551, 2.5551, 2.5551, 2.5551, 2.5551, 2.5551, 2.5551, 2.5551, 2.5551, 2.5551, 2.5551, 2.5551, 2.5404, 1.9348, 2.2646, 2.897, 2.897, 2.897, 2.897, 2.897, 2.897, 2.897, 2.897, 2.897, 2.897, 2.897, 2.897, 2.897, 2.897, 2.897, 2.897, 2.897, 2.897, 2.897, 2.897, 2.897, 2.897, 2.897, 2.897, 2.897, 2.897, 2.897, 2.897, 2.897, 2.897, 2.897, 2.897, 2.897, 2.897, 2.897, 2.897, 2.8969, 2.8969, 2.8969, 2.8969, 2.897, 2.897, 2.897, 2.897, 2.897, 2.897, 2.897, 2.897, 2.897, 2.897, 2.897, 2.897, 2.897, 2.897, 2.897, 2.8954, 1.6586, 2.9879, 2.9879, 2.9879, 2.9879, 2.9879, 2.9879, 2.9879, 2.9879, 2.9879, 2.9879, 2.9879, 2.9879, 2.9879, 2.9879, 2.9879, 2.9879, 2.9879, 2.9879, 2.9879, 2.9879, 2.9879, 2.9879, 2.9879, 2.9879, 2.9879, 2.9879, 2.9879, 2.9879, 2.9879, 2.9879, 2.9879, 2.9879, 2.9879, 2.9879, 2.9879, 2.9879, 2.9879, 2.9879, 2.9879, 2.9879, 2.9879, 2.9879, 2.9879, 2.9879, 2.9879, 2.9879, 2.9876, 2.9879, 2.9627, 2.9352, 2.5936, 3.1648, 3.1648, 3.1648, 3.1648, 3.1648, 3.1648, 3.1648, 3.1648, 3.1648, 3.1648, 3.1648, 3.1648, 3.1648, 3.1648, 3.1648, 3.1648, 3.1648, 3.1648, 3.1648, 3.1648, 3.1648, 3.1648, 3.1648, 3.1648, 3.1648, 3.1648, 3.1648, 3.1648, 3.1648, 3.1648, 3.1648, 3.1648, 3.1648, 3.1648, 3.1648, 3.1648, 3.1627, 3.1646, 3.1646, 3.1646, 3.1646, 3.1648, 3.1648, 3.1648, 3.1648, 3.1648, 3.1648, 3.1648, 3.1648, 3.1648, 3.1648, 3.1648, 3.1648, 3.1648, 3.1511, 3.1505, 3.1429, 3.1429, 1.3901, 3.2872, 3.2872, 3.2872, 3.2872, 3.2872, 3.2872, 3.2872, 3.2872, 3.2872, 3.2872, 3.2872, 3.2872, 3.2872, 3.2872, 3.2872, 3.2872, 3.2872, 3.2872, 3.2872, 3.2872, 3.2872, 3.2872, 3.2872, 3.2872, 3.2872, 3.2872, 3.2872, 3.2872, 3.2872, 3.2872, 3.2872, 3.2872, 3.2872, 3.2872, 3.2872, 3.2872, 3.2872, 3.2872, 3.2872, 3.2872, 3.2872, 3.2872, 3.2872, 3.2872, 3.2872, 3.2872, 3.2872, 3.2872, 3.2872, 3.3219, 3.3219, 3.3219, 3.3219, 3.3219, 3.3219, 3.3219, 3.3219, 3.3219, 3.3219, 3.3219, 3.3219, 3.3219, 3.3219, 3.3219, 3.3219, 3.3219, 3.3219, 3.3219, 3.3219, 3.3219, 3.3219, 3.3219, 3.3219, 3.3219, 3.3219, 3.3219, 3.3219, 3.3219, 3.3219, 3.3219, 3.3219, 3.3219, 3.3219, 3.3219, 3.3219, 3.3219, 3.3219, 3.3219, 3.3219, 3.314, 3.314, 3.3269, 3.3269, 3.3269, 3.3269, 3.3269, 3.3269, 3.3269, 3.3269, 3.3269, 3.3269, 3.3269, 3.3269, 3.3269, 3.3269, 3.3269, 3.3269, 3.3269, 3.3269, 3.3269, 3.3269, 3.3269, 3.3269, 3.3269, 3.3269, 3.3269, 3.3269, 3.3269, 3.3269, 3.3269, 3.3269, 3.3269, 3.3269, 3.3269, 3.3269, 3.3269, 3.3269, 3.3269, 3.3269, 3.3269, 3.3269, 3.3269, 3.3269, 3.3269, 3.3269, 3.3269, 3.3269, 3.3269, 3.3269, 3.3269, 3.3269, 3.3269, 3.3269, 3.3269, 3.3269, 3.3269, 3.3269, 3.0481, 2.6873, 2.6527, 2.6527, 3.4913, 3.4913, 3.4913, 3.4913, 3.4913, 3.4913, 3.4913, 3.4913, 3.4913, 3.4913, 3.4913, 3.4913, 3.4913, 3.4913, 3.4913, 3.4913, 3.4913, 3.4913, 3.4913, 3.4913, 3.4913, 3.4913, 3.4913, 3.4913, 3.4913, 3.4913, 3.4913, 3.4913, 3.4913, 3.4913, 3.4913, 3.4913, 3.4913, 3.4913, 3.4913, 3.4913, 3.4913, 3.4913, 3.4913, 3.4913, 3.4913, 3.4913, 3.4913, 3.4913, 3.4913, 3.4913, 3.4913, 3.4913]}, \"token.table\": {\"Topic\": [4, 3, 3, 3, 8, 9, 8, 9, 4, 2, 2, 2, 2, 5, 5, 5, 4, 4, 4, 4, 4, 4, 10, 10, 10, 3, 3, 6, 3, 3, 3, 10, 10, 10, 10, 5, 5, 5, 2, 4, 4, 5, 5, 5, 5, 2, 2, 2, 2, 2, 5, 8, 9, 2, 2, 2, 9, 9, 9, 8, 8, 8, 8, 8, 8, 8, 9, 9, 9, 9, 9, 9, 9, 9, 9, 9, 8, 8, 1, 10, 1, 1, 9, 9, 9, 8, 8, 8, 6, 6, 6, 4, 4, 7, 7, 10, 1, 1, 7, 7, 6, 6, 6, 3, 7, 7, 7, 10, 10, 10, 10, 10, 3, 10, 10, 9, 9, 9, 3, 3, 3, 4, 4, 4, 1, 5, 5, 5, 7, 7, 7, 7, 7, 7, 7, 7, 7, 7, 7, 7, 7, 7, 7, 7, 7, 7, 7, 8, 8, 8, 8, 8, 9, 9, 4, 1, 2, 2, 2, 1, 1, 10, 10, 10, 10, 10, 1, 7, 7, 7, 2, 2, 2, 2, 5, 5, 5, 10, 10, 10, 10, 1, 5, 5, 1, 6, 3, 3, 3, 8, 8, 8, 1, 5, 5, 3, 3, 3, 1, 2, 1, 1, 1, 1, 5, 3, 1, 5, 5, 5, 5, 5, 5, 5, 5, 5, 1, 2, 4, 4, 4, 6, 6, 6, 10, 10, 4, 4, 4, 8, 8, 9, 9, 8, 8, 9, 9, 8, 8, 8, 9, 9, 9, 4, 4, 4, 8, 9, 3, 8, 8, 8, 2, 2, 6, 6, 6, 10, 10, 10, 5, 5, 5, 6, 6, 5, 5, 5, 1, 1, 1, 4, 4, 4, 1, 3, 10, 10, 10, 6, 6, 6, 8, 9, 1, 1, 1, 1, 2, 2, 5, 5, 5, 2, 2, 2, 1, 1, 1, 3, 3, 3, 3, 3, 3, 6, 6, 6, 6, 6, 6, 6, 6, 6, 6, 6, 6, 8, 3, 1, 3, 3, 3, 5, 9, 9, 9, 6, 4, 1, 2, 2, 2, 5, 5, 5, 3, 1, 3, 3, 3, 5, 5, 5, 4, 4, 4, 6, 6, 6, 1, 1, 10, 6, 1, 1, 2, 2, 2, 1, 6, 6, 6, 3, 3, 3, 10, 10, 7, 1, 4, 4, 4, 3, 3, 3, 3, 3, 5, 5, 5, 3, 4, 4, 4, 1, 1, 1, 1, 3, 3, 1, 1, 1, 6, 1, 5], \"Freq\": [1.063381479476563, 0.9249182405554364, 0.9175162622795259, 0.9175162622795259, 0.4526334893038794, 0.4526334893038794, 0.4526334893038794, 0.4526334893038794, 1.6322313888308775, 0.6806667496105461, 0.8171723840511328, 0.850982888265294, 0.9576882430785199, 1.9469385507315107, 1.9469385507315107, 1.9469385507315107, 0.993800575251453, 1.032203327691491, 1.6322313888308775, 1.1151677251484486, 1.6921892298021057, 1.8475154953438977, 1.2261575753653908, 1.2261575753653908, 1.2261575753653908, 1.439179919147372, 1.439179919147372, 1.9078145814468448, 1.591637781706279, 1.8505896153174644, 1.8505896153174644, 1.2814313943709164, 0.9748092881597932, 0.9748092881597932, 0.9748092881597932, 1.9210682532675536, 1.9210682532675536, 1.9210682532675536, 0.6806667496105461, 1.063381479476563, 1.063381479476563, 1.7970634807469321, 1.1437682482631195, 1.1189044518152071, 1.1189044518152071, 1.021465480063916, 0.850982888265294, 0.850982888265294, 0.8171723840511328, 0.8171723840511328, 1.9210682532675536, 0.8595868420084531, 1.2073112384506726, 0.8171723840511328, 0.850982888265294, 0.850982888265294, 0.7937762272633296, 0.7937762272633296, 0.7937762272633296, 0.8580989793360358, 0.8580989793360358, 0.8580989793360358, 0.8580989793360358, 0.8580989793360358, 0.8580989793360358, 0.2353145999793034, 0.7059437999379102, 0.7937762272633296, 0.7937762272633296, 0.7937762272633296, 0.7937762272633296, 0.7937762272633296, 0.7937762272633296, 0.7937762272633296, 0.7769664761990833, 0.7769664761990833, 0.8277459369263296, 0.8277459369263296, 0.8321629134486684, 0.10402036418108355, 0.854498859514188, 1.13580733683394, 0.7937762272633296, 0.7937762272633296, 0.7937762272633296, 0.8580989793360358, 0.8580989793360358, 0.8580989793360358, 1.2592509100823488, 1.2087344850294903, 1.2087344850294903, 0.8460946149010529, 1.6921892298021057, 0.7004012966252637, 0.7004012966252637, 1.8262947936874372, 0.7468940106206393, 1.0641613921638595, 0.7004012966252637, 0.7004012966252637, 1.9078145814468448, 1.9078145814468448, 1.9078145814468448, 1.3813134592673206, 0.7004012966252637, 0.7004012966252637, 0.7004012966252637, 0.9748092881597932, 0.9748092881597932, 0.9748092881597932, 0.9748092881597932, 0.9748092881597932, 1.5679885073578583, 0.9748092881597932, 0.9748092881597932, 1.2073112384506726, 1.2073112384506726, 1.2073112384506726, 0.9175162622795259, 1.439179919147372, 1.439179919147372, 0.9887559293197734, 0.9887559293197734, 0.9249591850424915, 0.9764585809727987, 1.634490572310457, 1.634490572310457, 1.634490572310457, 1.0506019449378956, 0.7004012966252637, 0.7004012966252637, 0.7004012966252637, 0.7004012966252637, 0.7004012966252637, 0.7004012966252637, 0.7004012966252637, 0.7004012966252637, 0.7004012966252637, 0.7004012966252637, 0.7004012966252637, 0.7004012966252637, 0.7004012966252637, 0.7004012966252637, 0.7004012966252637, 0.7004012966252637, 0.7004012966252637, 0.7004012966252637, 0.8580989793360358, 0.8580989793360358, 0.8580989793360358, 0.8595868420084531, 1.782183845747498, 1.2073112384506726, 1.2073112384506726, 1.032203327691491, 0.7349187142790563, 0.24497290475968544, 1.2648172519440863, 1.2648172519440863, 0.9480802379960915, 1.1563273565130734, 0.9748092881597932, 0.9748092881597932, 0.9748092881597932, 0.9748092881597932, 0.9748092881597932, 1.176023909963987, 0.7004012966252637, 0.7004012966252637, 0.7004012966252637, 0.6806667496105461, 0.8171723840511328, 0.8171723840511328, 0.850982888265294, 1.1189044518152071, 1.1189044518152071, 1.1189044518152071, 0.9392505977264486, 0.9748092881597932, 0.9748092881597932, 0.9748092881597932, 0.8913220194297713, 1.9210682532675536, 1.9210682532675536, 1.244603638401228, 1.2087344850294903, 1.8505896153174632, 1.8505896153174632, 1.8505896153174632, 0.8580989793360358, 0.8580989793360358, 0.8580989793360358, 1.0811557045827367, 1.9210682532675536, 1.9210682532675536, 0.719589959573686, 1.439179919147372, 1.439179919147372, 0.7923897899863549, 0.11319854142662214, 1.0127573029681876, 0.9346810556243634, 0.9346810556243634, 1.2879210696714234, 1.634490572310457, 1.4113947103970839, 0.7506554615297951, 1.7970634807469321, 1.7970634807469321, 1.7970634807469321, 1.101382007284993, 1.101382007284993, 1.634490572310457, 1.9210682532675536, 1.7970634807469321, 1.9469385507315107, 1.0392044680071244, 0.9576882430785199, 0.9249591850424915, 0.9249591850424915, 0.9249591850424915, 1.9156571979094796, 1.9156571979094796, 1.9156571979094796, 0.9748092881597932, 0.9748092881597932, 0.9887559293197734, 0.9249591850424915, 0.9249591850424915, 0.8580989793360358, 0.8580989793360358, 0.7937762272633296, 0.7937762272633296, 0.8580989793360358, 0.8580989793360358, 0.7937762272633296, 0.7937762272633296, 0.8580989793360358, 0.8580989793360358, 0.8580989793360358, 0.7937762272633296, 0.7937762272633296, 0.7937762272633296, 0.993800575251453, 0.993800575251453, 1.032203327691491, 0.8580989793360358, 0.7937762272633296, 1.939623225377223, 0.8580989793360358, 0.8580989793360358, 0.8580989793360358, 0.9132731126046099, 0.9576882430785199, 1.294922612939411, 1.1979474065602906, 1.1979474065602906, 1.1262212686617035, 0.9748092881597932, 0.9748092881597932, 1.1189044518152071, 1.1189044518152071, 1.1189044518152071, 1.150784874852855, 1.150784874852855, 1.1152794179944772, 1.101382007284993, 1.101382007284993, 0.8144713536404906, 0.9909106292959252, 0.7418780214074654, 0.24729267380248846, 0.7076023327972908, 0.9249591850424915, 0.7097497126448284, 0.7097497126448284, 0.9748092881597932, 0.9748092881597932, 0.9748092881597932, 1.2237549686695068, 1.2237549686695068, 1.2237549686695068, 0.4684553178364717, 0.4684553178364717, 0.934961580730233, 0.963799415530097, 0.854498859514188, 0.7655443893593878, 0.25518146311979595, 1.1939958880585575, 1.1189044518152071, 1.1189044518152071, 1.1189044518152071, 0.8171723840511328, 0.8171723840511328, 0.8171723840511328, 0.9824096769712898, 1.0507914296506744, 1.1700721415964552, 0.9175162622795259, 0.9175162622795259, 1.439179919147372, 0.9175162622795259, 1.439179919147372, 1.439179919147372, 0.993529474305458, 1.0476537795137575, 1.0476537795137575, 1.0476537795137575, 1.2087344850294903, 1.2237549686695068, 1.1979474065602906, 1.0476537795137575, 1.0476537795137575, 1.2087344850294903, 1.2237549686695068, 1.1979474065602906, 1.782183845747498, 1.157455966704874, 0.9708551772290701, 1.8505896153174644, 1.8505896153174632, 1.662363227495891, 1.634490572310457, 0.7937762272633296, 0.7937762272633296, 0.7937762272633296, 1.2237549686695068, 1.0252548825287813, 0.6816316331443103, 0.8171723840511328, 0.9132731126046099, 0.9576882430785199, 1.1189044518152071, 1.1189044518152071, 1.1189044518152071, 1.8194060859759045, 0.9447130295841142, 1.5294757942452137, 1.439179919147372, 1.439179919147372, 1.1393476400859373, 1.1189044518152071, 1.1189044518152071, 1.004147740712683, 0.9887559293197734, 0.9887559293197734, 1.2019684939900472, 1.150784874852855, 1.150784874852855, 0.8244827675115213, 1.1469851241369984, 0.9748092881597932, 0.8930481215033955, 1.2930115813241385, 0.9173048501165533, 0.8171723840511328, 0.8171723840511328, 0.8171723840511328, 0.7626470734064211, 0.19066176835160528, 1.2165138668526785, 1.2165138668526785, 1.5996210982216073, 1.8505896153174632, 1.8505896153174632, 0.9748092881597932, 0.9748092881597932, 1.0506019449378956, 1.1725800233058303, 0.993800575251453, 0.9249591850424915, 0.9249591850424915, 1.662363227495891, 1.662363227495891, 0.719589959573686, 0.719589959573686, 1.439179919147372, 1.1042843042698498, 1.1189044518152071, 1.1189044518152071, 1.8194060859759045, 0.9249591850424915, 0.9249591850424915, 0.9249591850424915, 0.987914352115406, 1.1700721415964552, 0.9208254466783163, 0.9208254466783163, 1.439179919147372, 1.439179919147372, 0.9692465516657089, 0.8359316406431079, 0.8359316406431079, 1.1979474065602906, 0.29225177406992153, 0.5845035481398431], \"Term\": [\"adam\", \"aiart\", \"aiart nightcaf\", \"aiart nightcaf digitalart\", \"allabouteveshop\", \"allabouteveshop\", \"allabouteveshop christian\", \"allabouteveshop christian\", \"alway love von\", \"amp browncoat\", \"aprn\", \"aprn ritschi\", \"aprn ritschi kerstindref\", \"attack\", \"attack lesson\", \"attack lesson war\", \"auf\", \"auf evergreen\", \"auf evergreen alway\", \"auf evergreen everyth\", \"auf evergreen stay\", \"auf evergreen wanna\", \"av\", \"av kwiggl\", \"av kwiggl foldingbik\", \"better world\", \"better world nightcafestudio\", \"bgob\", \"bgxotybzlt\", \"bhwc\", \"bhwc pdcsm\", \"bike\", \"bikelif\", \"bikelif cycl\", \"bikelif cycl cyclinglif\", \"bring\", \"bring gun\", \"bring gun forward\", \"browncoat\", \"bryan\", \"bryan adam\", \"bten\", \"campaign\", \"campaign southern\", \"campaign southern storm\", \"castl\", \"castl aprn\", \"castl aprn ritschi\", \"castl firefli\", \"castl firefli chrissychatt\", \"ccml\", \"chabo eve olgb\", \"chabo eve qnthpf\", \"chrissychatt\", \"chrissychatt castl\", \"chrissychatt castl aprn\", \"christ\", \"christ christian\", \"christ christian christianinspir\", \"christen\", \"christen evangelisch\", \"christen evangelisch katholisch\", \"christentum\", \"christentum christen\", \"christentum christen evangelisch\", \"christian\", \"christian\", \"christian christ\", \"christian christ christian\", \"christian christianinspir\", \"christian christianinspir christianwomen\", \"christianinspir\", \"christianinspir christianwomen\", \"christianinspir christianwomen mariachabo\", \"christianwomen\", \"christianwomen mariachabo\", \"christlichefrauen\", \"christlichefrauen mariachabo\", \"christma\", \"christma\", \"christma happi\", \"christma happi new\", \"chritian\", \"chritian christian\", \"chritian christian christ\", \"chritlicherglaub\", \"chritlicherglaub christlichefrauen\", \"chritlicherglaub christlichefrauen mariachabo\", \"cinema\", \"cinema njpw\", \"cinema njpw njwk\", \"clash\", \"clash stream\", \"cm vintag\", \"cm vintag turkish\", \"colour\", \"come\", \"come end\", \"cover etsylov\", \"cover etsylov etsysal\", \"csdlawrf\", \"csdlawrf sn\", \"csdlawrf sn bgob\", \"cszvikckkv\", \"cushion\", \"cushion cover\", \"cushion cover etsylov\", \"cycl cyclinglif\", \"cycl cyclinglif sustain\", \"cyclinglif\", \"cyclinglif sustain\", \"cyclinglif sustain verkehrswend\", \"dbkxngl\", \"design innov\", \"design innov bikelif\", \"dha\", \"dha insta\", \"dha insta allabouteveshop\", \"digitalart\", \"digitalart vx\", \"digitalart vx gwjmsx\", \"einschalten\", \"einschalten izzhbt\", \"einschalten izzhbt whitney\", \"end\", \"establish\", \"establish posit\", \"establish posit lesson\", \"etsi\", \"etsi etsyfind\", \"etsi etsyfind festivetwitt\", \"etssel\", \"etsyfind\", \"etsyfind festivetwitt\", \"etsyfind festivetwitt share\", \"etsylov\", \"etsylov etsysal\", \"etsylov etsysal gift\", \"etsysal\", \"etsysal gift\", \"etsysal gift giftidea\", \"etsyshop\", \"etsyshop handcraft\", \"etsyshop handcraft vintag\", \"etsysoci\", \"etsysoci etsi\", \"etsysoci etsi etsyfind\", \"evangelisch\", \"evangelisch katholisch\", \"evangelisch katholisch chritlicherglaub\", \"eve olgb\", \"eve olgb xjek\", \"eve qnthpf\", \"eve qnthpf dha\", \"evergreen\", \"everyon\", \"everyon\", \"everyon nathanfillion\", \"everyon nathanfillion therooki\", \"ew\", \"exhibitor\", \"ey\", \"ey vq\", \"faltrad\", \"faltrad madeingermani\", \"faltrad madeingermani design\", \"famili\", \"festivetwitt\", \"festivetwitt share\", \"festivetwitt share makeitmeaning\", \"fillionair\", \"firefli\", \"firefli chrissychatt\", \"firefli chrissychatt castl\", \"flashpoint\", \"flashpoint campaign\", \"flashpoint campaign southern\", \"fold\", \"foldingbik\", \"foldingbik velopli\", \"foldingbik velopli faltrad\", \"forward\", \"forward lesson\", \"forward lesson war\", \"friend\", \"fszgyoxgox\", \"ftrulc\", \"fy\", \"fy ftrulc\", \"gebet\", \"gebet jesuschrist\", \"gebet jesuschrist jesusiloveyoud\", \"great\", \"gun forward\", \"gun forward lesson\", \"gwjmsx\", \"gwjmsx aiart\", \"gwjmsx aiart nightcaf\", \"happi\", \"happi\", \"happi holiday\", \"happi new\", \"happi new year\", \"happyholiday\", \"hempvntucz\", \"hfrsmi\", \"highlight\", \"hind\", \"hind hunt\", \"hind hunt lesson\", \"historygam\", \"historygam youtub\", \"historygam youtub hempvntucz\", \"historygam youtub pvltb\", \"historygam youtub tseu\", \"historygam youtub wsyd\", \"holiday\", \"homenor\", \"houston\", \"houston stream\", \"houston stream einschalten\", \"ingobern\", \"ingobern lij\", \"ingobern lij naito\", \"innov bikelif\", \"innov bikelif cycl\", \"izzhbt\", \"izzhbt whitney\", \"izzhbt whitney houston\", \"jesu gebet\", \"jesu gebet jesuschrist\", \"jesu prayer\", \"jesu prayer jesuschrist\", \"jesuschrist jesusiloveyoud\", \"jesuschrist jesusiloveyoud christentum\", \"jesuschrist jesusiloveyouen\", \"jesuschrist jesusiloveyouen chritian\", \"jesusiloveyoud\", \"jesusiloveyoud christentum\", \"jesusiloveyoud christentum christen\", \"jesusiloveyouen\", \"jesusiloveyouen chritian\", \"jesusiloveyouen chritian christian\", \"jetzt\", \"jetzt auf\", \"jetzt auf evergreen\", \"jewelri jesu gebet\", \"jewelri jesu prayer\", \"jfvlhyx\", \"katholisch\", \"katholisch chritlicherglaub\", \"katholisch chritlicherglaub christlichefrauen\", \"kerstindref\", \"kerstindref homenor\", \"king\", \"king njpw\", \"king njpw njwk\", \"kwiggl\", \"kwiggl foldingbik\", \"kwiggl foldingbik velopli\", \"lesson\", \"lesson war\", \"lesson war flashpoint\", \"let strong\", \"let strong njpw\", \"letsplay\", \"letsplay historygam\", \"letsplay historygam youtub\", \"look\", \"look forward\", \"love\", \"love\", \"love von\", \"love von whitney\", \"lwfgdvpx\", \"lwfgdvpx\", \"madeingermani\", \"madeingermani design\", \"madeingermani design innov\", \"majesti\", \"majesti njpw\", \"majesti njpw njwk\", \"mariachabo\", \"mariachabo\", \"merri\", \"merri christma\", \"merri christma happi\", \"merrychristma\", \"merrychristma\", \"mononenminna\", \"multiplay\", \"multiplay letsplay\", \"multiplay letsplay historygam\", \"nathanfillion\", \"nathanfillion therooki\", \"nathanfillion therooki castl\", \"new\", \"new year\", \"new year look\", \"nightcaf\", \"nightcaf digitalart\", \"nightcaf digitalart vx\", \"nightcafestudio\", \"nightcafestudio vx\", \"nightcafestudio vx gwjmsx\", \"njpw\", \"njpw njwk\", \"njpw njwk njpwworld\", \"njpwworld\", \"njpwworld fszgyoxgox\", \"njpwworld qfokm\", \"njpwworld ykmhhbcgab\", \"njwk\", \"njwk njpwworld\", \"njwk njpwworld fszgyoxgox\", \"njwk njpwworld qfokm\", \"njwk njpwworld ykmhhbcgab\", \"olgb xjek\", \"oomg\", \"partner\", \"pdcsm\", \"phxd\", \"pj\", \"posit lesson\", \"prayer\", \"prayer jesuschrist\", \"prayer jesuschrist jesusiloveyouen\", \"qfokm\", \"real thing\", \"remo\", \"ritschi\", \"ritschi kerstindref\", \"ritschi kerstindref homenor\", \"southern\", \"southern storm\", \"southern storm multiplay\", \"sr wbzmzg\", \"start\", \"step\", \"step better\", \"step better world\", \"storm\", \"storm multiplay\", \"storm multiplay letsplay\", \"stream\", \"stream einschalten\", \"stream einschalten izzhbt\", \"strong\", \"strong njpw\", \"strong njpw njwk\", \"success\", \"support\", \"sustain verkehrswend\", \"suzukigun\", \"team\", \"thank\", \"therooki\", \"therooki castl\", \"therooki castl firefli\", \"time\", \"time\", \"time njpw\", \"time njpw njwk\", \"tpm\", \"ucz\", \"ucz phxd\", \"velopli\", \"velopli faltrad\", \"vintag\", \"visitor\", \"von\", \"von whitney\", \"von whitney houston\", \"vwk\", \"vwk pj\", \"vx\", \"vx gwjmsx\", \"vx gwjmsx aiart\", \"war\", \"war flashpoint\", \"war flashpoint campaign\", \"wbzmzg\", \"whitney\", \"whitney houston\", \"whitney houston stream\", \"wish\", \"wish everyon\", \"wish merri\", \"wish merri christma\", \"world nightcafestudio\", \"world nightcafestudio vx\", \"year\", \"year look\", \"year look forward\", \"ykmhhbcgab\", \"youtub\", \"youtub\"]}, \"R\": 30, \"lambda.step\": 0.01, \"plot.opts\": {\"xlab\": \"PC1\", \"ylab\": \"PC2\"}, \"topic.order\": [10, 3, 7, 8, 4, 6, 2, 5, 1, 9]};\n",
       "\n",
       "function LDAvis_load_lib(url, callback){\n",
       "  var s = document.createElement('script');\n",
       "  s.src = url;\n",
       "  s.async = true;\n",
       "  s.onreadystatechange = s.onload = callback;\n",
       "  s.onerror = function(){console.warn(\"failed to load library \" + url);};\n",
       "  document.getElementsByTagName(\"head\")[0].appendChild(s);\n",
       "}\n",
       "\n",
       "if(typeof(LDAvis) !== \"undefined\"){\n",
       "   // already loaded: just create the visualization\n",
       "   !function(LDAvis){\n",
       "       new LDAvis(\"#\" + \"ldavis_el968821490545617444437931208\", ldavis_el968821490545617444437931208_data);\n",
       "   }(LDAvis);\n",
       "}else if(typeof define === \"function\" && define.amd){\n",
       "   // require.js is available: use it to load d3/LDAvis\n",
       "   require.config({paths: {d3: \"https://d3js.org/d3.v5\"}});\n",
       "   require([\"d3\"], function(d3){\n",
       "      window.d3 = d3;\n",
       "      LDAvis_load_lib(\"https://cdn.jsdelivr.net/gh/bmabey/pyLDAvis@3.3.1/pyLDAvis/js/ldavis.v3.0.0.js\", function(){\n",
       "        new LDAvis(\"#\" + \"ldavis_el968821490545617444437931208\", ldavis_el968821490545617444437931208_data);\n",
       "      });\n",
       "    });\n",
       "}else{\n",
       "    // require.js not available: dynamically load d3 & LDAvis\n",
       "    LDAvis_load_lib(\"https://d3js.org/d3.v5.js\", function(){\n",
       "         LDAvis_load_lib(\"https://cdn.jsdelivr.net/gh/bmabey/pyLDAvis@3.3.1/pyLDAvis/js/ldavis.v3.0.0.js\", function(){\n",
       "                 new LDAvis(\"#\" + \"ldavis_el968821490545617444437931208\", ldavis_el968821490545617444437931208_data);\n",
       "            })\n",
       "         });\n",
       "}\n",
       "</script>"
      ],
      "text/plain": [
       "<IPython.core.display.HTML object>"
      ]
     },
     "execution_count": 52,
     "metadata": {},
     "output_type": "execute_result"
    }
   ],
   "source": [
    "\n",
    "# Display the visualization\n",
    "pyLDAvis.display(vis_data)"
   ]
  },
  {
   "cell_type": "code",
   "execution_count": null,
   "id": "b11ef29b",
   "metadata": {},
   "outputs": [],
   "source": []
  }
 ],
 "metadata": {
  "kernelspec": {
   "display_name": "Python 3 (ipykernel)",
   "language": "python",
   "name": "python3"
  },
  "language_info": {
   "codemirror_mode": {
    "name": "ipython",
    "version": 3
   },
   "file_extension": ".py",
   "mimetype": "text/x-python",
   "name": "python",
   "nbconvert_exporter": "python",
   "pygments_lexer": "ipython3",
   "version": "3.9.7"
  },
  "vscode": {
   "interpreter": {
    "hash": "543ddbcb8945001c442a57d0f715cd34db84d803f450579ad610169afaecfa35"
   }
  }
 },
 "nbformat": 4,
 "nbformat_minor": 5
}
